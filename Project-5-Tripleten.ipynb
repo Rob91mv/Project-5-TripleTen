{
  "metadata": {
    "kernelspec": {
      "name": "python",
      "display_name": "Python (Pyodide)",
      "language": "python"
    },
    "language_info": {
      "codemirror_mode": {
        "name": "python",
        "version": 3
      },
      "file_extension": ".py",
      "mimetype": "text/x-python",
      "name": "python",
      "nbconvert_exporter": "python",
      "pygments_lexer": "ipython3",
      "version": "3.8"
    },
    "toc": {
      "base_numbering": 1,
      "nav_menu": {},
      "number_sections": true,
      "sideBar": true,
      "skip_h1_title": true,
      "title_cell": "Table of Contents",
      "title_sidebar": "Contents",
      "toc_cell": false,
      "toc_position": {
        "height": "calc(100% - 180px)",
        "left": "10px",
        "top": "150px",
        "width": "249.993px"
      },
      "toc_section_display": true,
      "toc_window_display": true
    }
  },
  "nbformat_minor": 4,
  "nbformat": 4,
  "cells": [
    {
      "cell_type": "markdown",
      "source": "# Video Game Sales Analysis Project – Ice Store",
      "metadata": {}
    },
    {
      "cell_type": "markdown",
      "source": "# Content <a id='back'></a>\n\n* [Introduction](#intro)\n* [1. Initialisation](#ini)\n* [2. Upload Data](#uploaddata)\n* [3. Exploratory Data Analysis](#eda)\n  * [3.1 Conclusion and Following Steps](#stat)\n* [4. Data Preprocesing](#preprocesing)\n  * [4.1 Fixing Anomalies and Data Types](#fix1)\n  * [4.2 Enhancing Data Base](#fix2)\n  * [4.3 Fixing Missing Values](#fix3)\n* [5. Analysing Data and Visualization](#analysis)\n    * [5.1 Analysis of games released over time](#analysis1)\n    * [5.2 Analysis of sales by platform and years](#analysis2)\n    * [5.3 Analysis of platform sales leaders](#analysis3)\n    * [5.4 Analysis of global game sales by platform](#analysis4)\n    * [5.5 Analysis of reviews versus sales of the Wii platform](#analysis5)\n    * [5.6 Analysis of the same games on multiple platforms](#analysis6)\n    * [5.7 5.7 Global sales analysis by gender](#analysis7)\n* [6. Analysis per Region](#region)\n    * [6.1 Analysis of 5 main platforms](#region1)\n    * [6.2 Analysis of 5 main genres](#region2)\n    * [6.3 Analysis of sales by ESRB ratings](#region3)\n* [7. Testing statistical hypotheses](#test)\n    * [7.1 Analysis of Average User Ratings for Xbox One and PC](#test1)\n    * [7.2 Analysis of Average User Ratings for Action and Sports](#test2)\n* [Project Conclusion](#end)",
      "metadata": {},
      "attachments": {}
    },
    {
      "cell_type": "markdown",
      "source": "## Introduction <a id='intro'></a>",
      "metadata": {}
    },
    {
      "cell_type": "markdown",
      "source": "As an analyst at Ice, a global online store specializing in video games, this project focuses on leveraging user and expert reviews, game genres, platforms, and historical sales data to identify patterns that determine a game’s success. The primary goal is to pinpoint promising projects and strategically plan advertising campaigns based on these insights.\n\nThe dataset includes historical data up to December 2016, positioning this analysis within the context of preparing for the 2017 marketing campaign. However, the objective extends beyond a single year’s campaign planning; it emphasizes gaining proficiency in data analysis techniques that can be applied regardless of the year of prediction. Additionally, the dataset features an “ESRB rating” column, which reflects the Entertainment Software Rating Board’s classification of game content, providing further variables for the comprehensive evaluation of game performance.",
      "metadata": {}
    },
    {
      "cell_type": "markdown",
      "source": "## 1. Initialisation <a id='ini'></a>",
      "metadata": {}
    },
    {
      "cell_type": "code",
      "source": "# Loading the libraries\nfrom scipy import stats as st\nimport matplotlib.pyplot as plt\nimport seaborn as sns\nimport numpy as np\nimport pandas as pd",
      "metadata": {},
      "outputs": [],
      "execution_count": 1
    },
    {
      "cell_type": "markdown",
      "source": "## 2. Upload Data <a id='uploaddata'></a>",
      "metadata": {}
    },
    {
      "cell_type": "code",
      "source": "# Uploading all the datasets \ntry: \n    games = pd.read_csv('/datasets/games.csv')\n    \nexcept:\n    games = pd.read_csv('/datasets/games.csv')\n    ",
      "metadata": {},
      "outputs": [],
      "execution_count": 2
    },
    {
      "cell_type": "markdown",
      "source": "<div class=\"alert alert-success\">\n<b>✔️ Comentario del revisor:</b>Buen trabajo con la carga de datos y librerias.</div>",
      "metadata": {}
    },
    {
      "cell_type": "markdown",
      "source": "## 3. Exploratory Data Analysis (EDA) <a id='eda'><a>",
      "metadata": {}
    },
    {
      "cell_type": "code",
      "source": "#We proceed to load the database of video games to be analysed.\ngames",
      "metadata": {
        "scrolled": true
      },
      "outputs": [
        {
          "data": {
            "text/html": [
              "<div>\n",
              "<style scoped>\n",
              "    .dataframe tbody tr th:only-of-type {\n",
              "        vertical-align: middle;\n",
              "    }\n",
              "\n",
              "    .dataframe tbody tr th {\n",
              "        vertical-align: top;\n",
              "    }\n",
              "\n",
              "    .dataframe thead th {\n",
              "        text-align: right;\n",
              "    }\n",
              "</style>\n",
              "<table border=\"1\" class=\"dataframe\">\n",
              "  <thead>\n",
              "    <tr style=\"text-align: right;\">\n",
              "      <th></th>\n",
              "      <th>Name</th>\n",
              "      <th>Platform</th>\n",
              "      <th>Year_of_Release</th>\n",
              "      <th>Genre</th>\n",
              "      <th>NA_sales</th>\n",
              "      <th>EU_sales</th>\n",
              "      <th>JP_sales</th>\n",
              "      <th>Other_sales</th>\n",
              "      <th>Critic_Score</th>\n",
              "      <th>User_Score</th>\n",
              "      <th>Rating</th>\n",
              "    </tr>\n",
              "  </thead>\n",
              "  <tbody>\n",
              "    <tr>\n",
              "      <th>0</th>\n",
              "      <td>Wii Sports</td>\n",
              "      <td>Wii</td>\n",
              "      <td>2006.0</td>\n",
              "      <td>Sports</td>\n",
              "      <td>41.36</td>\n",
              "      <td>28.96</td>\n",
              "      <td>3.77</td>\n",
              "      <td>8.45</td>\n",
              "      <td>76.0</td>\n",
              "      <td>8</td>\n",
              "      <td>E</td>\n",
              "    </tr>\n",
              "    <tr>\n",
              "      <th>1</th>\n",
              "      <td>Super Mario Bros.</td>\n",
              "      <td>NES</td>\n",
              "      <td>1985.0</td>\n",
              "      <td>Platform</td>\n",
              "      <td>29.08</td>\n",
              "      <td>3.58</td>\n",
              "      <td>6.81</td>\n",
              "      <td>0.77</td>\n",
              "      <td>NaN</td>\n",
              "      <td>NaN</td>\n",
              "      <td>NaN</td>\n",
              "    </tr>\n",
              "    <tr>\n",
              "      <th>2</th>\n",
              "      <td>Mario Kart Wii</td>\n",
              "      <td>Wii</td>\n",
              "      <td>2008.0</td>\n",
              "      <td>Racing</td>\n",
              "      <td>15.68</td>\n",
              "      <td>12.76</td>\n",
              "      <td>3.79</td>\n",
              "      <td>3.29</td>\n",
              "      <td>82.0</td>\n",
              "      <td>8.3</td>\n",
              "      <td>E</td>\n",
              "    </tr>\n",
              "    <tr>\n",
              "      <th>3</th>\n",
              "      <td>Wii Sports Resort</td>\n",
              "      <td>Wii</td>\n",
              "      <td>2009.0</td>\n",
              "      <td>Sports</td>\n",
              "      <td>15.61</td>\n",
              "      <td>10.93</td>\n",
              "      <td>3.28</td>\n",
              "      <td>2.95</td>\n",
              "      <td>80.0</td>\n",
              "      <td>8</td>\n",
              "      <td>E</td>\n",
              "    </tr>\n",
              "    <tr>\n",
              "      <th>4</th>\n",
              "      <td>Pokemon Red/Pokemon Blue</td>\n",
              "      <td>GB</td>\n",
              "      <td>1996.0</td>\n",
              "      <td>Role-Playing</td>\n",
              "      <td>11.27</td>\n",
              "      <td>8.89</td>\n",
              "      <td>10.22</td>\n",
              "      <td>1.00</td>\n",
              "      <td>NaN</td>\n",
              "      <td>NaN</td>\n",
              "      <td>NaN</td>\n",
              "    </tr>\n",
              "    <tr>\n",
              "      <th>...</th>\n",
              "      <td>...</td>\n",
              "      <td>...</td>\n",
              "      <td>...</td>\n",
              "      <td>...</td>\n",
              "      <td>...</td>\n",
              "      <td>...</td>\n",
              "      <td>...</td>\n",
              "      <td>...</td>\n",
              "      <td>...</td>\n",
              "      <td>...</td>\n",
              "      <td>...</td>\n",
              "    </tr>\n",
              "    <tr>\n",
              "      <th>16710</th>\n",
              "      <td>Samurai Warriors: Sanada Maru</td>\n",
              "      <td>PS3</td>\n",
              "      <td>2016.0</td>\n",
              "      <td>Action</td>\n",
              "      <td>0.00</td>\n",
              "      <td>0.00</td>\n",
              "      <td>0.01</td>\n",
              "      <td>0.00</td>\n",
              "      <td>NaN</td>\n",
              "      <td>NaN</td>\n",
              "      <td>NaN</td>\n",
              "    </tr>\n",
              "    <tr>\n",
              "      <th>16711</th>\n",
              "      <td>LMA Manager 2007</td>\n",
              "      <td>X360</td>\n",
              "      <td>2006.0</td>\n",
              "      <td>Sports</td>\n",
              "      <td>0.00</td>\n",
              "      <td>0.01</td>\n",
              "      <td>0.00</td>\n",
              "      <td>0.00</td>\n",
              "      <td>NaN</td>\n",
              "      <td>NaN</td>\n",
              "      <td>NaN</td>\n",
              "    </tr>\n",
              "    <tr>\n",
              "      <th>16712</th>\n",
              "      <td>Haitaka no Psychedelica</td>\n",
              "      <td>PSV</td>\n",
              "      <td>2016.0</td>\n",
              "      <td>Adventure</td>\n",
              "      <td>0.00</td>\n",
              "      <td>0.00</td>\n",
              "      <td>0.01</td>\n",
              "      <td>0.00</td>\n",
              "      <td>NaN</td>\n",
              "      <td>NaN</td>\n",
              "      <td>NaN</td>\n",
              "    </tr>\n",
              "    <tr>\n",
              "      <th>16713</th>\n",
              "      <td>Spirits &amp; Spells</td>\n",
              "      <td>GBA</td>\n",
              "      <td>2003.0</td>\n",
              "      <td>Platform</td>\n",
              "      <td>0.01</td>\n",
              "      <td>0.00</td>\n",
              "      <td>0.00</td>\n",
              "      <td>0.00</td>\n",
              "      <td>NaN</td>\n",
              "      <td>NaN</td>\n",
              "      <td>NaN</td>\n",
              "    </tr>\n",
              "    <tr>\n",
              "      <th>16714</th>\n",
              "      <td>Winning Post 8 2016</td>\n",
              "      <td>PSV</td>\n",
              "      <td>2016.0</td>\n",
              "      <td>Simulation</td>\n",
              "      <td>0.00</td>\n",
              "      <td>0.00</td>\n",
              "      <td>0.01</td>\n",
              "      <td>0.00</td>\n",
              "      <td>NaN</td>\n",
              "      <td>NaN</td>\n",
              "      <td>NaN</td>\n",
              "    </tr>\n",
              "  </tbody>\n",
              "</table>\n",
              "<p>16715 rows × 11 columns</p>\n",
              "</div>"
            ],
            "text/plain": [
              "                                Name Platform  Year_of_Release         Genre  \\\n",
              "0                         Wii Sports      Wii           2006.0        Sports   \n",
              "1                  Super Mario Bros.      NES           1985.0      Platform   \n",
              "2                     Mario Kart Wii      Wii           2008.0        Racing   \n",
              "3                  Wii Sports Resort      Wii           2009.0        Sports   \n",
              "4           Pokemon Red/Pokemon Blue       GB           1996.0  Role-Playing   \n",
              "...                              ...      ...              ...           ...   \n",
              "16710  Samurai Warriors: Sanada Maru      PS3           2016.0        Action   \n",
              "16711               LMA Manager 2007     X360           2006.0        Sports   \n",
              "16712        Haitaka no Psychedelica      PSV           2016.0     Adventure   \n",
              "16713               Spirits & Spells      GBA           2003.0      Platform   \n",
              "16714            Winning Post 8 2016      PSV           2016.0    Simulation   \n",
              "\n",
              "       NA_sales  EU_sales  JP_sales  Other_sales  Critic_Score User_Score  \\\n",
              "0         41.36     28.96      3.77         8.45          76.0          8   \n",
              "1         29.08      3.58      6.81         0.77           NaN        NaN   \n",
              "2         15.68     12.76      3.79         3.29          82.0        8.3   \n",
              "3         15.61     10.93      3.28         2.95          80.0          8   \n",
              "4         11.27      8.89     10.22         1.00           NaN        NaN   \n",
              "...         ...       ...       ...          ...           ...        ...   \n",
              "16710      0.00      0.00      0.01         0.00           NaN        NaN   \n",
              "16711      0.00      0.01      0.00         0.00           NaN        NaN   \n",
              "16712      0.00      0.00      0.01         0.00           NaN        NaN   \n",
              "16713      0.01      0.00      0.00         0.00           NaN        NaN   \n",
              "16714      0.00      0.00      0.01         0.00           NaN        NaN   \n",
              "\n",
              "      Rating  \n",
              "0          E  \n",
              "1        NaN  \n",
              "2          E  \n",
              "3          E  \n",
              "4        NaN  \n",
              "...      ...  \n",
              "16710    NaN  \n",
              "16711    NaN  \n",
              "16712    NaN  \n",
              "16713    NaN  \n",
              "16714    NaN  \n",
              "\n",
              "[16715 rows x 11 columns]"
            ]
          },
          "execution_count": 3,
          "metadata": {},
          "output_type": "execute_result"
        }
      ],
      "execution_count": 3
    },
    {
      "cell_type": "markdown",
      "source": "### Exploring the dataset",
      "metadata": {}
    },
    {
      "cell_type": "markdown",
      "source": "The dataset contains the following fields:\n\n- `Name`: Game name\n- `Platform`: Game console\n- `Year_of_Release`: Game year of release\n- `Genre`: Male, Female \n- `NA_sales`: North American sales in millions of US dollars) \n- `EU_sales`: European sales in millions of US dollars) \n- `JP_sales`: sales in Japan in millions of US dollars) \n- `Other_sales`: sales in other countries in million USD) \n- `Critic_Score`: critic score, maximum of 100\n- `User_Score`: users score, maximum of 10 \n- `Rating`:Entertainment Software Rating Board (ESRB) score",
      "metadata": {}
    },
    {
      "cell_type": "code",
      "source": "# Printing the general information of the dataframe\ngames.info()",
      "metadata": {},
      "outputs": [
        {
          "name": "stdout",
          "output_type": "stream",
          "text": "<class 'pandas.core.frame.DataFrame'>\n,RangeIndex: 16715 entries, 0 to 16714\n,Data columns (total 11 columns):\n, #   Column           Non-Null Count  Dtype  \n,---  ------           --------------  -----  \n, 0   Name             16713 non-null  object \n, 1   Platform         16715 non-null  object \n, 2   Year_of_Release  16446 non-null  float64\n, 3   Genre            16713 non-null  object \n, 4   NA_sales         16715 non-null  float64\n, 5   EU_sales         16715 non-null  float64\n, 6   JP_sales         16715 non-null  float64\n, 7   Other_sales      16715 non-null  float64\n, 8   Critic_Score     8137 non-null   float64\n, 9   User_Score       10014 non-null  object \n, 10  Rating           9949 non-null   object \n,dtypes: float64(6), object(5)\n,memory usage: 1.4+ MB\n"
        }
      ],
      "execution_count": 4
    },
    {
      "cell_type": "code",
      "source": "#Verifying details of each data variables\ngames.describe()",
      "metadata": {},
      "outputs": [
        {
          "data": {
            "text/html": [
              "<div>\n",
              "<style scoped>\n",
              "    .dataframe tbody tr th:only-of-type {\n",
              "        vertical-align: middle;\n",
              "    }\n",
              "\n",
              "    .dataframe tbody tr th {\n",
              "        vertical-align: top;\n",
              "    }\n",
              "\n",
              "    .dataframe thead th {\n",
              "        text-align: right;\n",
              "    }\n",
              "</style>\n",
              "<table border=\"1\" class=\"dataframe\">\n",
              "  <thead>\n",
              "    <tr style=\"text-align: right;\">\n",
              "      <th></th>\n",
              "      <th>Year_of_Release</th>\n",
              "      <th>NA_sales</th>\n",
              "      <th>EU_sales</th>\n",
              "      <th>JP_sales</th>\n",
              "      <th>Other_sales</th>\n",
              "      <th>Critic_Score</th>\n",
              "    </tr>\n",
              "  </thead>\n",
              "  <tbody>\n",
              "    <tr>\n",
              "      <th>count</th>\n",
              "      <td>16446.000000</td>\n",
              "      <td>16715.000000</td>\n",
              "      <td>16715.000000</td>\n",
              "      <td>16715.000000</td>\n",
              "      <td>16715.000000</td>\n",
              "      <td>8137.000000</td>\n",
              "    </tr>\n",
              "    <tr>\n",
              "      <th>mean</th>\n",
              "      <td>2006.484616</td>\n",
              "      <td>0.263377</td>\n",
              "      <td>0.145060</td>\n",
              "      <td>0.077617</td>\n",
              "      <td>0.047342</td>\n",
              "      <td>68.967679</td>\n",
              "    </tr>\n",
              "    <tr>\n",
              "      <th>std</th>\n",
              "      <td>5.877050</td>\n",
              "      <td>0.813604</td>\n",
              "      <td>0.503339</td>\n",
              "      <td>0.308853</td>\n",
              "      <td>0.186731</td>\n",
              "      <td>13.938165</td>\n",
              "    </tr>\n",
              "    <tr>\n",
              "      <th>min</th>\n",
              "      <td>1980.000000</td>\n",
              "      <td>0.000000</td>\n",
              "      <td>0.000000</td>\n",
              "      <td>0.000000</td>\n",
              "      <td>0.000000</td>\n",
              "      <td>13.000000</td>\n",
              "    </tr>\n",
              "    <tr>\n",
              "      <th>25%</th>\n",
              "      <td>2003.000000</td>\n",
              "      <td>0.000000</td>\n",
              "      <td>0.000000</td>\n",
              "      <td>0.000000</td>\n",
              "      <td>0.000000</td>\n",
              "      <td>60.000000</td>\n",
              "    </tr>\n",
              "    <tr>\n",
              "      <th>50%</th>\n",
              "      <td>2007.000000</td>\n",
              "      <td>0.080000</td>\n",
              "      <td>0.020000</td>\n",
              "      <td>0.000000</td>\n",
              "      <td>0.010000</td>\n",
              "      <td>71.000000</td>\n",
              "    </tr>\n",
              "    <tr>\n",
              "      <th>75%</th>\n",
              "      <td>2010.000000</td>\n",
              "      <td>0.240000</td>\n",
              "      <td>0.110000</td>\n",
              "      <td>0.040000</td>\n",
              "      <td>0.030000</td>\n",
              "      <td>79.000000</td>\n",
              "    </tr>\n",
              "    <tr>\n",
              "      <th>max</th>\n",
              "      <td>2016.000000</td>\n",
              "      <td>41.360000</td>\n",
              "      <td>28.960000</td>\n",
              "      <td>10.220000</td>\n",
              "      <td>10.570000</td>\n",
              "      <td>98.000000</td>\n",
              "    </tr>\n",
              "  </tbody>\n",
              "</table>\n",
              "</div>"
            ],
            "text/plain": [
              "       Year_of_Release      NA_sales      EU_sales      JP_sales  \\\n",
              "count     16446.000000  16715.000000  16715.000000  16715.000000   \n",
              "mean       2006.484616      0.263377      0.145060      0.077617   \n",
              "std           5.877050      0.813604      0.503339      0.308853   \n",
              "min        1980.000000      0.000000      0.000000      0.000000   \n",
              "25%        2003.000000      0.000000      0.000000      0.000000   \n",
              "50%        2007.000000      0.080000      0.020000      0.000000   \n",
              "75%        2010.000000      0.240000      0.110000      0.040000   \n",
              "max        2016.000000     41.360000     28.960000     10.220000   \n",
              "\n",
              "        Other_sales  Critic_Score  \n",
              "count  16715.000000   8137.000000  \n",
              "mean       0.047342     68.967679  \n",
              "std        0.186731     13.938165  \n",
              "min        0.000000     13.000000  \n",
              "25%        0.000000     60.000000  \n",
              "50%        0.010000     71.000000  \n",
              "75%        0.030000     79.000000  \n",
              "max       10.570000     98.000000  "
            ]
          },
          "execution_count": 5,
          "metadata": {},
          "output_type": "execute_result"
        }
      ],
      "execution_count": 5
    },
    {
      "cell_type": "code",
      "source": "games[games['Name']== 'FIFA 14'] #printing a sample",
      "metadata": {},
      "outputs": [
        {
          "data": {
            "text/html": [
              "<div>\n",
              "<style scoped>\n",
              "    .dataframe tbody tr th:only-of-type {\n",
              "        vertical-align: middle;\n",
              "    }\n",
              "\n",
              "    .dataframe tbody tr th {\n",
              "        vertical-align: top;\n",
              "    }\n",
              "\n",
              "    .dataframe thead th {\n",
              "        text-align: right;\n",
              "    }\n",
              "</style>\n",
              "<table border=\"1\" class=\"dataframe\">\n",
              "  <thead>\n",
              "    <tr style=\"text-align: right;\">\n",
              "      <th></th>\n",
              "      <th>Name</th>\n",
              "      <th>Platform</th>\n",
              "      <th>Year_of_Release</th>\n",
              "      <th>Genre</th>\n",
              "      <th>NA_sales</th>\n",
              "      <th>EU_sales</th>\n",
              "      <th>JP_sales</th>\n",
              "      <th>Other_sales</th>\n",
              "      <th>Critic_Score</th>\n",
              "      <th>User_Score</th>\n",
              "      <th>Rating</th>\n",
              "    </tr>\n",
              "  </thead>\n",
              "  <tbody>\n",
              "    <tr>\n",
              "      <th>126</th>\n",
              "      <td>FIFA 14</td>\n",
              "      <td>PS3</td>\n",
              "      <td>2013.0</td>\n",
              "      <td>Sports</td>\n",
              "      <td>0.78</td>\n",
              "      <td>4.24</td>\n",
              "      <td>0.07</td>\n",
              "      <td>1.37</td>\n",
              "      <td>86.0</td>\n",
              "      <td>4.3</td>\n",
              "      <td>E</td>\n",
              "    </tr>\n",
              "    <tr>\n",
              "      <th>271</th>\n",
              "      <td>FIFA 14</td>\n",
              "      <td>X360</td>\n",
              "      <td>2013.0</td>\n",
              "      <td>Sports</td>\n",
              "      <td>0.92</td>\n",
              "      <td>2.89</td>\n",
              "      <td>0.01</td>\n",
              "      <td>0.40</td>\n",
              "      <td>84.0</td>\n",
              "      <td>4.2</td>\n",
              "      <td>E</td>\n",
              "    </tr>\n",
              "    <tr>\n",
              "      <th>469</th>\n",
              "      <td>FIFA 14</td>\n",
              "      <td>PS4</td>\n",
              "      <td>2013.0</td>\n",
              "      <td>Sports</td>\n",
              "      <td>0.61</td>\n",
              "      <td>1.85</td>\n",
              "      <td>0.11</td>\n",
              "      <td>0.44</td>\n",
              "      <td>87.0</td>\n",
              "      <td>6.3</td>\n",
              "      <td>E</td>\n",
              "    </tr>\n",
              "    <tr>\n",
              "      <th>1753</th>\n",
              "      <td>FIFA 14</td>\n",
              "      <td>XOne</td>\n",
              "      <td>2013.0</td>\n",
              "      <td>Sports</td>\n",
              "      <td>0.41</td>\n",
              "      <td>0.66</td>\n",
              "      <td>0.00</td>\n",
              "      <td>0.09</td>\n",
              "      <td>88.0</td>\n",
              "      <td>5.8</td>\n",
              "      <td>E</td>\n",
              "    </tr>\n",
              "    <tr>\n",
              "      <th>4699</th>\n",
              "      <td>FIFA 14</td>\n",
              "      <td>PSV</td>\n",
              "      <td>2013.0</td>\n",
              "      <td>Sports</td>\n",
              "      <td>0.08</td>\n",
              "      <td>0.23</td>\n",
              "      <td>0.01</td>\n",
              "      <td>0.09</td>\n",
              "      <td>NaN</td>\n",
              "      <td>1.8</td>\n",
              "      <td>E</td>\n",
              "    </tr>\n",
              "    <tr>\n",
              "      <th>4809</th>\n",
              "      <td>FIFA 14</td>\n",
              "      <td>PC</td>\n",
              "      <td>2013.0</td>\n",
              "      <td>Sports</td>\n",
              "      <td>0.01</td>\n",
              "      <td>0.36</td>\n",
              "      <td>0.00</td>\n",
              "      <td>0.03</td>\n",
              "      <td>87.0</td>\n",
              "      <td>4.6</td>\n",
              "      <td>E</td>\n",
              "    </tr>\n",
              "    <tr>\n",
              "      <th>4985</th>\n",
              "      <td>FIFA 14</td>\n",
              "      <td>Wii</td>\n",
              "      <td>2013.0</td>\n",
              "      <td>Sports</td>\n",
              "      <td>0.00</td>\n",
              "      <td>0.36</td>\n",
              "      <td>0.00</td>\n",
              "      <td>0.02</td>\n",
              "      <td>NaN</td>\n",
              "      <td>4.3</td>\n",
              "      <td>E</td>\n",
              "    </tr>\n",
              "    <tr>\n",
              "      <th>6871</th>\n",
              "      <td>FIFA 14</td>\n",
              "      <td>3DS</td>\n",
              "      <td>2013.0</td>\n",
              "      <td>Sports</td>\n",
              "      <td>0.00</td>\n",
              "      <td>0.22</td>\n",
              "      <td>0.00</td>\n",
              "      <td>0.01</td>\n",
              "      <td>NaN</td>\n",
              "      <td>NaN</td>\n",
              "      <td>NaN</td>\n",
              "    </tr>\n",
              "    <tr>\n",
              "      <th>7875</th>\n",
              "      <td>FIFA 14</td>\n",
              "      <td>PSP</td>\n",
              "      <td>2013.0</td>\n",
              "      <td>Sports</td>\n",
              "      <td>0.00</td>\n",
              "      <td>0.15</td>\n",
              "      <td>0.00</td>\n",
              "      <td>0.04</td>\n",
              "      <td>NaN</td>\n",
              "      <td>3.4</td>\n",
              "      <td>E</td>\n",
              "    </tr>\n",
              "  </tbody>\n",
              "</table>\n",
              "</div>"
            ],
            "text/plain": [
              "         Name Platform  Year_of_Release   Genre  NA_sales  EU_sales  JP_sales  \\\n",
              "126   FIFA 14      PS3           2013.0  Sports      0.78      4.24      0.07   \n",
              "271   FIFA 14     X360           2013.0  Sports      0.92      2.89      0.01   \n",
              "469   FIFA 14      PS4           2013.0  Sports      0.61      1.85      0.11   \n",
              "1753  FIFA 14     XOne           2013.0  Sports      0.41      0.66      0.00   \n",
              "4699  FIFA 14      PSV           2013.0  Sports      0.08      0.23      0.01   \n",
              "4809  FIFA 14       PC           2013.0  Sports      0.01      0.36      0.00   \n",
              "4985  FIFA 14      Wii           2013.0  Sports      0.00      0.36      0.00   \n",
              "6871  FIFA 14      3DS           2013.0  Sports      0.00      0.22      0.00   \n",
              "7875  FIFA 14      PSP           2013.0  Sports      0.00      0.15      0.00   \n",
              "\n",
              "      Other_sales  Critic_Score User_Score Rating  \n",
              "126          1.37          86.0        4.3      E  \n",
              "271          0.40          84.0        4.2      E  \n",
              "469          0.44          87.0        6.3      E  \n",
              "1753         0.09          88.0        5.8      E  \n",
              "4699         0.09           NaN        1.8      E  \n",
              "4809         0.03          87.0        4.6      E  \n",
              "4985         0.02           NaN        4.3      E  \n",
              "6871         0.01           NaN        NaN    NaN  \n",
              "7875         0.04           NaN        3.4      E  "
            ]
          },
          "execution_count": 6,
          "metadata": {},
          "output_type": "execute_result"
        }
      ],
      "execution_count": 6
    },
    {
      "cell_type": "code",
      "source": "games.isna() #Checking missing values",
      "metadata": {},
      "outputs": [
        {
          "data": {
            "text/html": [
              "<div>\n",
              "<style scoped>\n",
              "    .dataframe tbody tr th:only-of-type {\n",
              "        vertical-align: middle;\n",
              "    }\n",
              "\n",
              "    .dataframe tbody tr th {\n",
              "        vertical-align: top;\n",
              "    }\n",
              "\n",
              "    .dataframe thead th {\n",
              "        text-align: right;\n",
              "    }\n",
              "</style>\n",
              "<table border=\"1\" class=\"dataframe\">\n",
              "  <thead>\n",
              "    <tr style=\"text-align: right;\">\n",
              "      <th></th>\n",
              "      <th>Name</th>\n",
              "      <th>Platform</th>\n",
              "      <th>Year_of_Release</th>\n",
              "      <th>Genre</th>\n",
              "      <th>NA_sales</th>\n",
              "      <th>EU_sales</th>\n",
              "      <th>JP_sales</th>\n",
              "      <th>Other_sales</th>\n",
              "      <th>Critic_Score</th>\n",
              "      <th>User_Score</th>\n",
              "      <th>Rating</th>\n",
              "    </tr>\n",
              "  </thead>\n",
              "  <tbody>\n",
              "    <tr>\n",
              "      <th>0</th>\n",
              "      <td>False</td>\n",
              "      <td>False</td>\n",
              "      <td>False</td>\n",
              "      <td>False</td>\n",
              "      <td>False</td>\n",
              "      <td>False</td>\n",
              "      <td>False</td>\n",
              "      <td>False</td>\n",
              "      <td>False</td>\n",
              "      <td>False</td>\n",
              "      <td>False</td>\n",
              "    </tr>\n",
              "    <tr>\n",
              "      <th>1</th>\n",
              "      <td>False</td>\n",
              "      <td>False</td>\n",
              "      <td>False</td>\n",
              "      <td>False</td>\n",
              "      <td>False</td>\n",
              "      <td>False</td>\n",
              "      <td>False</td>\n",
              "      <td>False</td>\n",
              "      <td>True</td>\n",
              "      <td>True</td>\n",
              "      <td>True</td>\n",
              "    </tr>\n",
              "    <tr>\n",
              "      <th>2</th>\n",
              "      <td>False</td>\n",
              "      <td>False</td>\n",
              "      <td>False</td>\n",
              "      <td>False</td>\n",
              "      <td>False</td>\n",
              "      <td>False</td>\n",
              "      <td>False</td>\n",
              "      <td>False</td>\n",
              "      <td>False</td>\n",
              "      <td>False</td>\n",
              "      <td>False</td>\n",
              "    </tr>\n",
              "    <tr>\n",
              "      <th>3</th>\n",
              "      <td>False</td>\n",
              "      <td>False</td>\n",
              "      <td>False</td>\n",
              "      <td>False</td>\n",
              "      <td>False</td>\n",
              "      <td>False</td>\n",
              "      <td>False</td>\n",
              "      <td>False</td>\n",
              "      <td>False</td>\n",
              "      <td>False</td>\n",
              "      <td>False</td>\n",
              "    </tr>\n",
              "    <tr>\n",
              "      <th>4</th>\n",
              "      <td>False</td>\n",
              "      <td>False</td>\n",
              "      <td>False</td>\n",
              "      <td>False</td>\n",
              "      <td>False</td>\n",
              "      <td>False</td>\n",
              "      <td>False</td>\n",
              "      <td>False</td>\n",
              "      <td>True</td>\n",
              "      <td>True</td>\n",
              "      <td>True</td>\n",
              "    </tr>\n",
              "    <tr>\n",
              "      <th>...</th>\n",
              "      <td>...</td>\n",
              "      <td>...</td>\n",
              "      <td>...</td>\n",
              "      <td>...</td>\n",
              "      <td>...</td>\n",
              "      <td>...</td>\n",
              "      <td>...</td>\n",
              "      <td>...</td>\n",
              "      <td>...</td>\n",
              "      <td>...</td>\n",
              "      <td>...</td>\n",
              "    </tr>\n",
              "    <tr>\n",
              "      <th>16710</th>\n",
              "      <td>False</td>\n",
              "      <td>False</td>\n",
              "      <td>False</td>\n",
              "      <td>False</td>\n",
              "      <td>False</td>\n",
              "      <td>False</td>\n",
              "      <td>False</td>\n",
              "      <td>False</td>\n",
              "      <td>True</td>\n",
              "      <td>True</td>\n",
              "      <td>True</td>\n",
              "    </tr>\n",
              "    <tr>\n",
              "      <th>16711</th>\n",
              "      <td>False</td>\n",
              "      <td>False</td>\n",
              "      <td>False</td>\n",
              "      <td>False</td>\n",
              "      <td>False</td>\n",
              "      <td>False</td>\n",
              "      <td>False</td>\n",
              "      <td>False</td>\n",
              "      <td>True</td>\n",
              "      <td>True</td>\n",
              "      <td>True</td>\n",
              "    </tr>\n",
              "    <tr>\n",
              "      <th>16712</th>\n",
              "      <td>False</td>\n",
              "      <td>False</td>\n",
              "      <td>False</td>\n",
              "      <td>False</td>\n",
              "      <td>False</td>\n",
              "      <td>False</td>\n",
              "      <td>False</td>\n",
              "      <td>False</td>\n",
              "      <td>True</td>\n",
              "      <td>True</td>\n",
              "      <td>True</td>\n",
              "    </tr>\n",
              "    <tr>\n",
              "      <th>16713</th>\n",
              "      <td>False</td>\n",
              "      <td>False</td>\n",
              "      <td>False</td>\n",
              "      <td>False</td>\n",
              "      <td>False</td>\n",
              "      <td>False</td>\n",
              "      <td>False</td>\n",
              "      <td>False</td>\n",
              "      <td>True</td>\n",
              "      <td>True</td>\n",
              "      <td>True</td>\n",
              "    </tr>\n",
              "    <tr>\n",
              "      <th>16714</th>\n",
              "      <td>False</td>\n",
              "      <td>False</td>\n",
              "      <td>False</td>\n",
              "      <td>False</td>\n",
              "      <td>False</td>\n",
              "      <td>False</td>\n",
              "      <td>False</td>\n",
              "      <td>False</td>\n",
              "      <td>True</td>\n",
              "      <td>True</td>\n",
              "      <td>True</td>\n",
              "    </tr>\n",
              "  </tbody>\n",
              "</table>\n",
              "<p>16715 rows × 11 columns</p>\n",
              "</div>"
            ],
            "text/plain": [
              "        Name  Platform  Year_of_Release  Genre  NA_sales  EU_sales  JP_sales  \\\n",
              "0      False     False            False  False     False     False     False   \n",
              "1      False     False            False  False     False     False     False   \n",
              "2      False     False            False  False     False     False     False   \n",
              "3      False     False            False  False     False     False     False   \n",
              "4      False     False            False  False     False     False     False   \n",
              "...      ...       ...              ...    ...       ...       ...       ...   \n",
              "16710  False     False            False  False     False     False     False   \n",
              "16711  False     False            False  False     False     False     False   \n",
              "16712  False     False            False  False     False     False     False   \n",
              "16713  False     False            False  False     False     False     False   \n",
              "16714  False     False            False  False     False     False     False   \n",
              "\n",
              "       Other_sales  Critic_Score  User_Score  Rating  \n",
              "0            False         False       False   False  \n",
              "1            False          True        True    True  \n",
              "2            False         False       False   False  \n",
              "3            False         False       False   False  \n",
              "4            False          True        True    True  \n",
              "...            ...           ...         ...     ...  \n",
              "16710        False          True        True    True  \n",
              "16711        False          True        True    True  \n",
              "16712        False          True        True    True  \n",
              "16713        False          True        True    True  \n",
              "16714        False          True        True    True  \n",
              "\n",
              "[16715 rows x 11 columns]"
            ]
          },
          "execution_count": 5,
          "metadata": {},
          "output_type": "execute_result"
        }
      ],
      "execution_count": 5
    },
    {
      "cell_type": "code",
      "source": "duplicados = games.duplicated()\ncantidad_duplicados = duplicados.sum()\nprint(cantidad_duplicados) # Finally, we check the number of duplicate rows in 'games'.",
      "metadata": {},
      "outputs": [
        {
          "data": {
            "text/plain": [
              "0"
            ]
          },
          "execution_count": 7,
          "metadata": {},
          "output_type": "execute_result"
        }
      ],
      "execution_count": 7
    },
    {
      "cell_type": "markdown",
      "source": "At a glance with the above information, we can previously observe that:\n\n- There are a total of 16715 rows.\n- There are variables with missing values (‘Name’,‘Year_of_realese’,‘genre’,‘critic_score’, ‘user_score’ and ‘rating’).\n- The field titles must be standardised in lowercase letters.\n- It appears that sales in NA, EU, JP and other countries have zero values. It will be necessary to analyse each case in depth. The other variables do not have anomalous values.\n- The variable ‘year_of_realease’ should be in ‘int’ format and the variable ‘user_score’ in ‘float64’ format. This will be corrected after correcting the missing values, as the column data cannot be transformed as long as it has ‘nan’ values.\n- No duplicate data is visible.\n\nWe will continue to dig deeper into the analysis on each of the variables to see if further adjustments will be required.",
      "metadata": {}
    },
    {
      "cell_type": "code",
      "source": "#Verifying unique values of 'name' \ngames['Name'].sort_values(ascending=True).unique()",
      "metadata": {
        "scrolled": true
      },
      "outputs": [
        {
          "data": {
            "text/plain": [
              "array([' Beyblade Burst', ' Fire Emblem Fates', \" Frozen: Olaf's Quest\",\n",
              "       ..., 'wwe Smackdown vs. Raw 2006', '¡Shin Chan Flipa en colores!',\n",
              "       nan], dtype=object)"
            ]
          },
          "execution_count": 8,
          "metadata": {},
          "output_type": "execute_result"
        }
      ],
      "execution_count": 8
    },
    {
      "cell_type": "code",
      "source": "#Verifying unique values of 'platform' \ngames['Platform'].sort_values(ascending=True).unique()",
      "metadata": {},
      "outputs": [
        {
          "data": {
            "text/plain": [
              "array(['2600', '3DO', '3DS', 'DC', 'DS', 'GB', 'GBA', 'GC', 'GEN', 'GG',\n",
              "       'N64', 'NES', 'NG', 'PC', 'PCFX', 'PS', 'PS2', 'PS3', 'PS4', 'PSP',\n",
              "       'PSV', 'SAT', 'SCD', 'SNES', 'TG16', 'WS', 'Wii', 'WiiU', 'X360',\n",
              "       'XB', 'XOne'], dtype=object)"
            ]
          },
          "execution_count": 9,
          "metadata": {},
          "output_type": "execute_result"
        }
      ],
      "execution_count": 9
    },
    {
      "cell_type": "code",
      "source": "games['Platform'].value_counts() #We check the quantity of each one to see if there are any anomalies.",
      "metadata": {
        "scrolled": true
      },
      "outputs": [
        {
          "data": {
            "text/plain": [
              "PS2     2161\n",
              "DS      2151\n",
              "PS3     1331\n",
              "Wii     1320\n",
              "X360    1262\n",
              "PSP     1209\n",
              "PS      1197\n",
              "PC       974\n",
              "XB       824\n",
              "GBA      822\n",
              "GC       556\n",
              "3DS      520\n",
              "PSV      430\n",
              "PS4      392\n",
              "N64      319\n",
              "XOne     247\n",
              "SNES     239\n",
              "SAT      173\n",
              "WiiU     147\n",
              "2600     133\n",
              "GB        98\n",
              "NES       98\n",
              "DC        52\n",
              "GEN       29\n",
              "NG        12\n",
              "WS         6\n",
              "SCD        6\n",
              "3DO        3\n",
              "TG16       2\n",
              "GG         1\n",
              "PCFX       1\n",
              "Name: Platform, dtype: int64"
            ]
          },
          "execution_count": 10,
          "metadata": {},
          "output_type": "execute_result"
        }
      ],
      "execution_count": 10
    },
    {
      "cell_type": "code",
      "source": "games['Year_of_Release'].sort_values(ascending=True).unique()",
      "metadata": {},
      "outputs": [
        {
          "data": {
            "text/plain": [
              "array([1980., 1981., 1982., 1983., 1984., 1985., 1986., 1987., 1988.,\n",
              "       1989., 1990., 1991., 1992., 1993., 1994., 1995., 1996., 1997.,\n",
              "       1998., 1999., 2000., 2001., 2002., 2003., 2004., 2005., 2006.,\n",
              "       2007., 2008., 2009., 2010., 2011., 2012., 2013., 2014., 2015.,\n",
              "       2016.,   nan])"
            ]
          },
          "execution_count": 11,
          "metadata": {},
          "output_type": "execute_result"
        }
      ],
      "execution_count": 11
    },
    {
      "cell_type": "code",
      "source": "games['Genre'].sort_values(ascending=True).unique()",
      "metadata": {},
      "outputs": [
        {
          "data": {
            "text/plain": [
              "array(['Action', 'Adventure', 'Fighting', 'Misc', 'Platform', 'Puzzle',\n",
              "       'Racing', 'Role-Playing', 'Shooter', 'Simulation', 'Sports',\n",
              "       'Strategy', nan], dtype=object)"
            ]
          },
          "execution_count": 12,
          "metadata": {},
          "output_type": "execute_result"
        }
      ],
      "execution_count": 12
    },
    {
      "cell_type": "code",
      "source": "games['Critic_Score'].sort_values(ascending=True).unique()",
      "metadata": {},
      "outputs": [
        {
          "data": {
            "text/plain": [
              "array([13., 17., 19., 20., 21., 22., 23., 24., 25., 26., 27., 28., 29.,\n",
              "       30., 31., 32., 33., 34., 35., 36., 37., 38., 39., 40., 41., 42.,\n",
              "       43., 44., 45., 46., 47., 48., 49., 50., 51., 52., 53., 54., 55.,\n",
              "       56., 57., 58., 59., 60., 61., 62., 63., 64., 65., 66., 67., 68.,\n",
              "       69., 70., 71., 72., 73., 74., 75., 76., 77., 78., 79., 80., 81.,\n",
              "       82., 83., 84., 85., 86., 87., 88., 89., 90., 91., 92., 93., 94.,\n",
              "       95., 96., 97., 98., nan])"
            ]
          },
          "execution_count": 13,
          "metadata": {},
          "output_type": "execute_result"
        }
      ],
      "execution_count": 13
    },
    {
      "cell_type": "code",
      "source": "games['User_Score'].sort_values(ascending=True).unique()",
      "metadata": {
        "scrolled": true
      },
      "outputs": [
        {
          "data": {
            "text/plain": [
              "array(['0', '0.2', '0.3', '0.5', '0.6', '0.7', '0.9', '1', '1.1', '1.2',\n",
              "       '1.3', '1.4', '1.5', '1.6', '1.7', '1.8', '1.9', '2', '2.1', '2.2',\n",
              "       '2.3', '2.4', '2.5', '2.6', '2.7', '2.8', '2.9', '3', '3.1', '3.2',\n",
              "       '3.3', '3.4', '3.5', '3.6', '3.7', '3.8', '3.9', '4', '4.1', '4.2',\n",
              "       '4.3', '4.4', '4.5', '4.6', '4.7', '4.8', '4.9', '5', '5.1', '5.2',\n",
              "       '5.3', '5.4', '5.5', '5.6', '5.7', '5.8', '5.9', '6', '6.1', '6.2',\n",
              "       '6.3', '6.4', '6.5', '6.6', '6.7', '6.8', '6.9', '7', '7.1', '7.2',\n",
              "       '7.3', '7.4', '7.5', '7.6', '7.7', '7.8', '7.9', '8', '8.1', '8.2',\n",
              "       '8.3', '8.4', '8.5', '8.6', '8.7', '8.8', '8.9', '9', '9.1', '9.2',\n",
              "       '9.3', '9.4', '9.5', '9.6', '9.7', 'tbd', nan], dtype=object)"
            ]
          },
          "execution_count": 14,
          "metadata": {},
          "output_type": "execute_result"
        }
      ],
      "execution_count": 14
    },
    {
      "cell_type": "code",
      "source": "#Verificamos el % de valores tbd en 'User_score'\nnum_filas = games.shape[0]\nfila_tbd = (games['User_Score']=='tbd').sum() \nprop_tbd = fila_tbd / num_filas *100 #porcentaje de valores con 'tbd'\nprop_tbd",
      "metadata": {},
      "outputs": [
        {
          "data": {
            "text/plain": [
              "14.501944361352079"
            ]
          },
          "execution_count": 15,
          "metadata": {},
          "output_type": "execute_result"
        }
      ],
      "execution_count": 15
    },
    {
      "cell_type": "code",
      "source": "#We check the % of missing values in 'User_score'\nnum_filas = games.shape[0]\nfila_null = games['User_Score'].isnull().sum() \nprop_null = fila_null / num_filas *100 #porcentaje de valores con ausentes\nprop_null",
      "metadata": {},
      "outputs": [
        {
          "data": {
            "text/plain": [
              "40.08973975471134"
            ]
          },
          "execution_count": 16,
          "metadata": {},
          "output_type": "execute_result"
        }
      ],
      "execution_count": 16
    },
    {
      "cell_type": "code",
      "source": "games['Rating'].sort_values(ascending=True).unique()",
      "metadata": {},
      "outputs": [
        {
          "data": {
            "text/plain": [
              "array(['AO', 'E', 'E10+', 'EC', 'K-A', 'M', 'RP', 'T', nan], dtype=object)"
            ]
          },
          "execution_count": 17,
          "metadata": {},
          "output_type": "execute_result"
        }
      ],
      "execution_count": 17
    },
    {
      "cell_type": "markdown",
      "source": "Reviewing each of the columns, we see that no text homologation is required in the values of each variable, except in the variable ‘user_score’ where we see the abbreviation ‘tbd’ which corresponds to 14% of the total data. In addition, it was corroborated that the percentage of ‘nan’ values is 40%, so it will be better to consider that 14% as missing values as well, since the order of values with no score is already very high.\n\nWe will now proceed to correct each of the situations identified before correcting the missing values:",
      "metadata": {}
    },
    {
      "cell_type": "markdown",
      "source": "## 4. Data Preprocesing <a id='preprocesing'></a>",
      "metadata": {}
    },
    {
      "cell_type": "markdown",
      "source": "### Fixing variables text",
      "metadata": {}
    },
    {
      "cell_type": "code",
      "source": "#We correct texts in lowercase columns\ngames.columns = games.columns.str.lower()",
      "metadata": {},
      "outputs": [],
      "execution_count": 18
    },
    {
      "cell_type": "markdown",
      "source": "### 4.1 Fixing Anomalies and Data Types <a id='fix1'></a>",
      "metadata": {}
    },
    {
      "cell_type": "code",
      "source": "#We transform the 'tbd' values to 'nan' so that they can be treated as missing values entirely.\ngames['user_score'] = games['user_score'].replace('tbd', np.nan)",
      "metadata": {},
      "outputs": [],
      "execution_count": 19
    },
    {
      "cell_type": "code",
      "source": "games['user_score'].sort_values().unique() #Checking the changes",
      "metadata": {},
      "outputs": [
        {
          "data": {
            "text/plain": [
              "array(['0', '0.2', '0.3', '0.5', '0.6', '0.7', '0.9', '1', '1.1', '1.2',\n",
              "       '1.3', '1.4', '1.5', '1.6', '1.7', '1.8', '1.9', '2', '2.1', '2.2',\n",
              "       '2.3', '2.4', '2.5', '2.6', '2.7', '2.8', '2.9', '3', '3.1', '3.2',\n",
              "       '3.3', '3.4', '3.5', '3.6', '3.7', '3.8', '3.9', '4', '4.1', '4.2',\n",
              "       '4.3', '4.4', '4.5', '4.6', '4.7', '4.8', '4.9', '5', '5.1', '5.2',\n",
              "       '5.3', '5.4', '5.5', '5.6', '5.7', '5.8', '5.9', '6', '6.1', '6.2',\n",
              "       '6.3', '6.4', '6.5', '6.6', '6.7', '6.8', '6.9', '7', '7.1', '7.2',\n",
              "       '7.3', '7.4', '7.5', '7.6', '7.7', '7.8', '7.9', '8', '8.1', '8.2',\n",
              "       '8.3', '8.4', '8.5', '8.6', '8.7', '8.8', '8.9', '9', '9.1', '9.2',\n",
              "       '9.3', '9.4', '9.5', '9.6', '9.7', nan], dtype=object)"
            ]
          },
          "execution_count": 20,
          "metadata": {},
          "output_type": "execute_result"
        }
      ],
      "execution_count": 20
    },
    {
      "cell_type": "code",
      "source": "#We change the variable 'user_score' to type 'float'\ngames['user_score'] = games['user_score'].astype(float)",
      "metadata": {},
      "outputs": [],
      "execution_count": 21
    },
    {
      "cell_type": "code",
      "source": "games.info() #Checking the changes",
      "metadata": {},
      "outputs": [
        {
          "name": "stdout",
          "output_type": "stream",
          "text": "<class 'pandas.core.frame.DataFrame'>\n,RangeIndex: 16715 entries, 0 to 16714\n,Data columns (total 11 columns):\n, #   Column           Non-Null Count  Dtype  \n,---  ------           --------------  -----  \n, 0   name             16713 non-null  object \n, 1   platform         16715 non-null  object \n, 2   year_of_release  16446 non-null  float64\n, 3   genre            16713 non-null  object \n, 4   na_sales         16715 non-null  float64\n, 5   eu_sales         16715 non-null  float64\n, 6   jp_sales         16715 non-null  float64\n, 7   other_sales      16715 non-null  float64\n, 8   critic_score     8137 non-null   float64\n, 9   user_score       7590 non-null   float64\n, 10  rating           9949 non-null   object \n,dtypes: float64(7), object(4)\n,memory usage: 1.4+ MB\n"
        }
      ],
      "execution_count": 22
    },
    {
      "cell_type": "code",
      "source": "# We check the number of zero values in the 'na_sales' column \n\nvalor_total = games['na_sales'].value_counts().sum()\nfiltro = games['na_sales']==0\nporcentaje = (filtro.sum()/valor_total)*100\n\nprint(f\"Porcentaje: {porcentaje:.2f}%\")",
      "metadata": {},
      "outputs": [
        {
          "name": "stdout",
          "output_type": "stream",
          "text": "Porcentaje: 26.97%\n"
        }
      ],
      "execution_count": 23
    },
    {
      "cell_type": "code",
      "source": "# We check the number of zero values in the 'eu_sales' column \n\nvalor_total = games['eu_sales'].value_counts().sum()\nfiltro = games['eu_sales']==0\nporcentaje = (filtro.sum()/valor_total)*100\n\nprint(f\"Porcentaje: {porcentaje:.2f}%\")",
      "metadata": {},
      "outputs": [
        {
          "name": "stdout",
          "output_type": "stream",
          "text": "Porcentaje: 35.12%\n"
        }
      ],
      "execution_count": 24
    },
    {
      "cell_type": "code",
      "source": "# We check the number of zero values in the 'jp_sales' column \n\n\nvalor_total = games['jp_sales'].value_counts().sum()\nfiltro = games['jp_sales']==0\nporcentaje = (filtro.sum()/valor_total)*100\n\nprint(f\"Porcentaje: {porcentaje:.2f}%\")",
      "metadata": {},
      "outputs": [
        {
          "name": "stdout",
          "output_type": "stream",
          "text": "Porcentaje: 62.90%\n"
        }
      ],
      "execution_count": 25
    },
    {
      "cell_type": "code",
      "source": "# We check the number of zero values in the 'other_sales' column \n\n\nvalor_total = games['other_sales'].value_counts().sum()\nfiltro = games['other_sales']==0\nporcentaje = (filtro.sum()/valor_total)*100\n\nprint(f\"Porcentaje: {porcentaje:.2f}%\")",
      "metadata": {},
      "outputs": [
        {
          "name": "stdout",
          "output_type": "stream",
          "text": "Porcentaje: 39.49%\n"
        }
      ],
      "execution_count": 26
    },
    {
      "cell_type": "markdown",
      "source": "We can see that the zero sales values are quite a high percentage of the total data, so we will assume that the data is correct, where there were 0 sales values for those regions of the world for certain types of games. \n\nWe will now proceed to create a total sales column, as we confirm the sales values for each region:",
      "metadata": {}
    },
    {
      "cell_type": "markdown",
      "source": "## 4.2 Enhancing Dataset <a id='fix2'></a>",
      "metadata": {}
    },
    {
      "cell_type": "code",
      "source": "# Creating a new column of total sales\ngames['total_sales'] = games['na_sales'] + games['eu_sales'] + games['jp_sales'] + games['other_sales']",
      "metadata": {},
      "outputs": [],
      "execution_count": 27
    },
    {
      "cell_type": "markdown",
      "source": "## 4.3 Fixing Missing Values <a id='fix3'></a>",
      "metadata": {}
    },
    {
      "cell_type": "code",
      "source": "games.info() #Recalling the variables to be addressed",
      "metadata": {},
      "outputs": [
        {
          "name": "stdout",
          "output_type": "stream",
          "text": "<class 'pandas.core.frame.DataFrame'>\n,RangeIndex: 16715 entries, 0 to 16714\n,Data columns (total 12 columns):\n, #   Column           Non-Null Count  Dtype  \n,---  ------           --------------  -----  \n, 0   name             16713 non-null  object \n, 1   platform         16715 non-null  object \n, 2   year_of_release  16446 non-null  float64\n, 3   genre            16713 non-null  object \n, 4   na_sales         16715 non-null  float64\n, 5   eu_sales         16715 non-null  float64\n, 6   jp_sales         16715 non-null  float64\n, 7   other_sales      16715 non-null  float64\n, 8   critic_score     8137 non-null   float64\n, 9   user_score       7590 non-null   float64\n, 10  rating           9949 non-null   object \n, 11  total_sales      16715 non-null  float64\n,dtypes: float64(8), object(4)\n,memory usage: 1.5+ MB\n"
        }
      ],
      "execution_count": 28
    },
    {
      "cell_type": "code",
      "source": "#We fill the missing values of 'name' in an 'unknown' category.\ngames['name'].fillna('unknown', inplace=True)",
      "metadata": {},
      "outputs": [],
      "execution_count": 29
    },
    {
      "cell_type": "code",
      "source": "# We check the % of missing values for 'year_of_release'\nnum_filas = games.shape[0]\nfila_ausentes = games['year_of_release'].isnull().sum() \nprop_ausentes = fila_ausentes / num_filas *100 \nprop_ausentes",
      "metadata": {},
      "outputs": [
        {
          "data": {
            "text/plain": [
              "1.609332934489979"
            ]
          },
          "execution_count": 30,
          "metadata": {},
          "output_type": "execute_result"
        }
      ],
      "execution_count": 30
    },
    {
      "cell_type": "markdown",
      "source": "There is 1.6% of missing values in the total of the \"year_of_release\" column, which means that the data could be replaced using the \"Simple Imputation\" method, that is, replacing the missing values with the median or mean.\n\nNext, we will check which mean or median will be the most convenient to use by comparing the column with another candidate variable that might be correlated with it, but first, we will see if this variable has a pattern in its missing values compared to another candidate variable that explains it.",
      "metadata": {}
    },
    {
      "cell_type": "code",
      "source": "datos_ausentes = games[games['year_of_release'].isnull()]\ndatos_no_ausentes = games[games['year_of_release'].notnull()]\ncantidad_datos_ausentes = datos_ausentes['platform'].value_counts(normalize = True)\ncantidad_datos_no_ausentes = datos_no_ausentes['platform'].value_counts(normalize =True)\n\ntabla_contingencia1 = pd.DataFrame({'No Ausente': cantidad_datos_no_ausentes, 'Ausente': cantidad_datos_ausentes})\ntabla_contingencia1 = tabla_contingencia1.sort_values(by=['Ausente', 'No Ausente'], ascending=[False, False])\n\ntabla_contingencia1 # Let's investigate missing values on another potential causative characteristic (‘platform’).",
      "metadata": {},
      "outputs": [
        {
          "data": {
            "text/html": [
              "<div>\n",
              "<style scoped>\n",
              "    .dataframe tbody tr th:only-of-type {\n",
              "        vertical-align: middle;\n",
              "    }\n",
              "\n",
              "    .dataframe tbody tr th {\n",
              "        vertical-align: top;\n",
              "    }\n",
              "\n",
              "    .dataframe thead th {\n",
              "        text-align: right;\n",
              "    }\n",
              "</style>\n",
              "<table border=\"1\" class=\"dataframe\">\n",
              "  <thead>\n",
              "    <tr style=\"text-align: right;\">\n",
              "      <th></th>\n",
              "      <th>No Ausente</th>\n",
              "      <th>Ausente</th>\n",
              "    </tr>\n",
              "  </thead>\n",
              "  <tbody>\n",
              "    <tr>\n",
              "      <th>PS2</th>\n",
              "      <td>0.129332</td>\n",
              "      <td>0.126394</td>\n",
              "    </tr>\n",
              "    <tr>\n",
              "      <th>Wii</th>\n",
              "      <td>0.078195</td>\n",
              "      <td>0.126394</td>\n",
              "    </tr>\n",
              "    <tr>\n",
              "      <th>DS</th>\n",
              "      <td>0.128968</td>\n",
              "      <td>0.111524</td>\n",
              "    </tr>\n",
              "    <tr>\n",
              "      <th>X360</th>\n",
              "      <td>0.074912</td>\n",
              "      <td>0.111524</td>\n",
              "    </tr>\n",
              "    <tr>\n",
              "      <th>PS3</th>\n",
              "      <td>0.079411</td>\n",
              "      <td>0.092937</td>\n",
              "    </tr>\n",
              "    <tr>\n",
              "      <th>XB</th>\n",
              "      <td>0.048826</td>\n",
              "      <td>0.078067</td>\n",
              "    </tr>\n",
              "    <tr>\n",
              "      <th>PC</th>\n",
              "      <td>0.058190</td>\n",
              "      <td>0.063197</td>\n",
              "    </tr>\n",
              "    <tr>\n",
              "      <th>2600</th>\n",
              "      <td>0.007053</td>\n",
              "      <td>0.063197</td>\n",
              "    </tr>\n",
              "    <tr>\n",
              "      <th>PSP</th>\n",
              "      <td>0.072540</td>\n",
              "      <td>0.059480</td>\n",
              "    </tr>\n",
              "    <tr>\n",
              "      <th>GC</th>\n",
              "      <td>0.032956</td>\n",
              "      <td>0.052045</td>\n",
              "    </tr>\n",
              "    <tr>\n",
              "      <th>GBA</th>\n",
              "      <td>0.049313</td>\n",
              "      <td>0.040892</td>\n",
              "    </tr>\n",
              "    <tr>\n",
              "      <th>3DS</th>\n",
              "      <td>0.031132</td>\n",
              "      <td>0.029740</td>\n",
              "    </tr>\n",
              "    <tr>\n",
              "      <th>PS</th>\n",
              "      <td>0.072358</td>\n",
              "      <td>0.026022</td>\n",
              "    </tr>\n",
              "    <tr>\n",
              "      <th>N64</th>\n",
              "      <td>0.019214</td>\n",
              "      <td>0.011152</td>\n",
              "    </tr>\n",
              "    <tr>\n",
              "      <th>PSV</th>\n",
              "      <td>0.026085</td>\n",
              "      <td>0.003717</td>\n",
              "    </tr>\n",
              "    <tr>\n",
              "      <th>GB</th>\n",
              "      <td>0.005898</td>\n",
              "      <td>0.003717</td>\n",
              "    </tr>\n",
              "    <tr>\n",
              "      <th>PS4</th>\n",
              "      <td>0.023836</td>\n",
              "      <td>NaN</td>\n",
              "    </tr>\n",
              "    <tr>\n",
              "      <th>XOne</th>\n",
              "      <td>0.015019</td>\n",
              "      <td>NaN</td>\n",
              "    </tr>\n",
              "    <tr>\n",
              "      <th>SNES</th>\n",
              "      <td>0.014532</td>\n",
              "      <td>NaN</td>\n",
              "    </tr>\n",
              "    <tr>\n",
              "      <th>SAT</th>\n",
              "      <td>0.010519</td>\n",
              "      <td>NaN</td>\n",
              "    </tr>\n",
              "    <tr>\n",
              "      <th>WiiU</th>\n",
              "      <td>0.008938</td>\n",
              "      <td>NaN</td>\n",
              "    </tr>\n",
              "    <tr>\n",
              "      <th>NES</th>\n",
              "      <td>0.005959</td>\n",
              "      <td>NaN</td>\n",
              "    </tr>\n",
              "    <tr>\n",
              "      <th>DC</th>\n",
              "      <td>0.003162</td>\n",
              "      <td>NaN</td>\n",
              "    </tr>\n",
              "    <tr>\n",
              "      <th>GEN</th>\n",
              "      <td>0.001763</td>\n",
              "      <td>NaN</td>\n",
              "    </tr>\n",
              "    <tr>\n",
              "      <th>NG</th>\n",
              "      <td>0.000730</td>\n",
              "      <td>NaN</td>\n",
              "    </tr>\n",
              "    <tr>\n",
              "      <th>SCD</th>\n",
              "      <td>0.000365</td>\n",
              "      <td>NaN</td>\n",
              "    </tr>\n",
              "    <tr>\n",
              "      <th>WS</th>\n",
              "      <td>0.000365</td>\n",
              "      <td>NaN</td>\n",
              "    </tr>\n",
              "    <tr>\n",
              "      <th>3DO</th>\n",
              "      <td>0.000182</td>\n",
              "      <td>NaN</td>\n",
              "    </tr>\n",
              "    <tr>\n",
              "      <th>TG16</th>\n",
              "      <td>0.000122</td>\n",
              "      <td>NaN</td>\n",
              "    </tr>\n",
              "    <tr>\n",
              "      <th>GG</th>\n",
              "      <td>0.000061</td>\n",
              "      <td>NaN</td>\n",
              "    </tr>\n",
              "    <tr>\n",
              "      <th>PCFX</th>\n",
              "      <td>0.000061</td>\n",
              "      <td>NaN</td>\n",
              "    </tr>\n",
              "  </tbody>\n",
              "</table>\n",
              "</div>"
            ],
            "text/plain": [
              "      No Ausente   Ausente\n",
              "PS2     0.129332  0.126394\n",
              "Wii     0.078195  0.126394\n",
              "DS      0.128968  0.111524\n",
              "X360    0.074912  0.111524\n",
              "PS3     0.079411  0.092937\n",
              "XB      0.048826  0.078067\n",
              "PC      0.058190  0.063197\n",
              "2600    0.007053  0.063197\n",
              "PSP     0.072540  0.059480\n",
              "GC      0.032956  0.052045\n",
              "GBA     0.049313  0.040892\n",
              "3DS     0.031132  0.029740\n",
              "PS      0.072358  0.026022\n",
              "N64     0.019214  0.011152\n",
              "PSV     0.026085  0.003717\n",
              "GB      0.005898  0.003717\n",
              "PS4     0.023836       NaN\n",
              "XOne    0.015019       NaN\n",
              "SNES    0.014532       NaN\n",
              "SAT     0.010519       NaN\n",
              "WiiU    0.008938       NaN\n",
              "NES     0.005959       NaN\n",
              "DC      0.003162       NaN\n",
              "GEN     0.001763       NaN\n",
              "NG      0.000730       NaN\n",
              "SCD     0.000365       NaN\n",
              "WS      0.000365       NaN\n",
              "3DO     0.000182       NaN\n",
              "TG16    0.000122       NaN\n",
              "GG      0.000061       NaN\n",
              "PCFX    0.000061       NaN"
            ]
          },
          "execution_count": 31,
          "metadata": {},
          "output_type": "execute_result"
        }
      ],
      "execution_count": 31
    },
    {
      "cell_type": "markdown",
      "source": "We can see that the missing values in the “year_of_release” column do not show a clear pattern with respect to the main candidate “platform” for determining whether there is any explanation or symmetrical distribution of the missing values. In other words, there is no clear trend in how missing values are distributed across any “platform” category (the maximum value is 0.12, which is below the general threshold of 0.7 or 0.8). This implies that there is no need to investigate further for a possible correlation-based explanation of these missing values, as they can be considered random from a statistical perspective. Therefore, the missing values in “year_of_release” can be replaced with either the median or mean.",
      "metadata": {}
    },
    {
      "cell_type": "code",
      "source": "#We added a function to calculate means and medians to complete the missing values.\ndef calcular_estadistica_por_grupo(data, columna, columna2, estadistica = True, redondear = True):\n    if estadistica == True:\n        resultado = data.groupby(columna2)[columna].mean()\n        if redondear:\n                resultado = round(resultado)\n    else:\n        resultado = data.groupby(columna2)[columna].median()\n    \n    resultado = resultado.sort_values(ascending=False)\n    return resultado",
      "metadata": {},
      "outputs": [],
      "execution_count": 32
    },
    {
      "cell_type": "code",
      "source": "games_notna = games.dropna()",
      "metadata": {},
      "outputs": [],
      "execution_count": 33
    },
    {
      "cell_type": "code",
      "source": "#We calculate the average of 'year_of_release' grouped by platform \ncalcular_estadistica_por_grupo(games_notna,'year_of_release','platform',True,True)",
      "metadata": {},
      "outputs": [
        {
          "data": {
            "text/plain": [
              "platform\n",
              "XOne    2015.0\n",
              "PS4     2015.0\n",
              "WiiU    2014.0\n",
              "PSV     2013.0\n",
              "3DS     2013.0\n",
              "PS3     2010.0\n",
              "PC      2009.0\n",
              "X360    2009.0\n",
              "Wii     2008.0\n",
              "PSP     2007.0\n",
              "DS      2007.0\n",
              "PS2     2004.0\n",
              "XB      2004.0\n",
              "GC      2003.0\n",
              "GBA     2003.0\n",
              "DC      2000.0\n",
              "PS      1999.0\n",
              "Name: year_of_release, dtype: float64"
            ]
          },
          "execution_count": 34,
          "metadata": {},
          "output_type": "execute_result"
        }
      ],
      "execution_count": 34
    },
    {
      "cell_type": "code",
      "source": "#We calculate the median of 'year_of_release' grouped by platform \ncalcular_estadistica_por_grupo(games_notna,'year_of_release','platform',False,True)",
      "metadata": {
        "scrolled": true
      },
      "outputs": [
        {
          "data": {
            "text/plain": [
              "platform\n",
              "XOne    2015.0\n",
              "PS4     2015.0\n",
              "WiiU    2013.0\n",
              "PSV     2013.0\n",
              "3DS     2012.0\n",
              "PS3     2010.0\n",
              "PC      2009.0\n",
              "X360    2009.0\n",
              "Wii     2008.0\n",
              "PSP     2007.0\n",
              "DS      2007.0\n",
              "PS2     2004.0\n",
              "XB      2004.0\n",
              "GC      2003.0\n",
              "GBA     2003.0\n",
              "PS      2000.0\n",
              "DC      2000.0\n",
              "Name: year_of_release, dtype: float64"
            ]
          },
          "execution_count": 203,
          "metadata": {},
          "output_type": "execute_result"
        }
      ],
      "execution_count": 203
    },
    {
      "cell_type": "markdown",
      "source": "We see that the first platforms are the same for the mean and median of release years, and the deviation is at most 1 year when comparing their median and mean, so the best indicator will be the mean to replace their missing values:",
      "metadata": {}
    },
    {
      "cell_type": "code",
      "source": "for platform, media in calcular_estadistica_por_grupo(games, 'year_of_release', 'platform',True, True).iteritems(): #Creamos una función para reemplazar los valores ausentes.\n    games.loc[(games['platform'] == platform) & (games['year_of_release'].isnull()), 'year_of_release'] = media # Reemplazar los valores ausentes (completando con la variable más representativa que el tipo de plataforma de juego)",
      "metadata": {},
      "outputs": [],
      "execution_count": 204
    },
    {
      "cell_type": "code",
      "source": "games['year_of_release'].unique() #Verifying missing values replace",
      "metadata": {
        "scrolled": true
      },
      "outputs": [
        {
          "data": {
            "text/plain": [
              "array([2006., 1985., 2008., 2009., 1996., 1989., 1984., 2005., 1999.,\n",
              "       2007., 2010., 2013., 2004., 1990., 1988., 2002., 2001., 2011.,\n",
              "       1998., 2015., 2012., 2014., 1992., 1997., 1993., 1994., 1982.,\n",
              "       2016., 2003., 1986., 2000., 1995., 1991., 1981., 1987., 1980.,\n",
              "       1983.])"
            ]
          },
          "execution_count": 205,
          "metadata": {},
          "output_type": "execute_result"
        }
      ],
      "execution_count": 205
    },
    {
      "cell_type": "code",
      "source": "#We review how the 'nan' values of 'genre' behave\ngames[games['genre'].isnull()]",
      "metadata": {},
      "outputs": [
        {
          "data": {
            "text/html": [
              "<div>\n",
              "<style scoped>\n",
              "    .dataframe tbody tr th:only-of-type {\n",
              "        vertical-align: middle;\n",
              "    }\n",
              "\n",
              "    .dataframe tbody tr th {\n",
              "        vertical-align: top;\n",
              "    }\n",
              "\n",
              "    .dataframe thead th {\n",
              "        text-align: right;\n",
              "    }\n",
              "</style>\n",
              "<table border=\"1\" class=\"dataframe\">\n",
              "  <thead>\n",
              "    <tr style=\"text-align: right;\">\n",
              "      <th></th>\n",
              "      <th>name</th>\n",
              "      <th>platform</th>\n",
              "      <th>year_of_release</th>\n",
              "      <th>genre</th>\n",
              "      <th>na_sales</th>\n",
              "      <th>eu_sales</th>\n",
              "      <th>jp_sales</th>\n",
              "      <th>other_sales</th>\n",
              "      <th>critic_score</th>\n",
              "      <th>user_score</th>\n",
              "      <th>rating</th>\n",
              "      <th>total_sales</th>\n",
              "    </tr>\n",
              "  </thead>\n",
              "  <tbody>\n",
              "    <tr>\n",
              "      <th>659</th>\n",
              "      <td>unknown</td>\n",
              "      <td>GEN</td>\n",
              "      <td>1993.0</td>\n",
              "      <td>NaN</td>\n",
              "      <td>1.78</td>\n",
              "      <td>0.53</td>\n",
              "      <td>0.00</td>\n",
              "      <td>0.08</td>\n",
              "      <td>NaN</td>\n",
              "      <td>NaN</td>\n",
              "      <td>NaN</td>\n",
              "      <td>2.39</td>\n",
              "    </tr>\n",
              "    <tr>\n",
              "      <th>14244</th>\n",
              "      <td>unknown</td>\n",
              "      <td>GEN</td>\n",
              "      <td>1993.0</td>\n",
              "      <td>NaN</td>\n",
              "      <td>0.00</td>\n",
              "      <td>0.00</td>\n",
              "      <td>0.03</td>\n",
              "      <td>0.00</td>\n",
              "      <td>NaN</td>\n",
              "      <td>NaN</td>\n",
              "      <td>NaN</td>\n",
              "      <td>0.03</td>\n",
              "    </tr>\n",
              "  </tbody>\n",
              "</table>\n",
              "</div>"
            ],
            "text/plain": [
              "          name platform  year_of_release genre  na_sales  eu_sales  jp_sales  \\\n",
              "659    unknown      GEN           1993.0   NaN      1.78      0.53      0.00   \n",
              "14244  unknown      GEN           1993.0   NaN      0.00      0.00      0.03   \n",
              "\n",
              "       other_sales  critic_score  user_score rating  total_sales  \n",
              "659           0.08           NaN         NaN    NaN         2.39  \n",
              "14244         0.00           NaN         NaN    NaN         0.03  "
            ]
          },
          "execution_count": 206,
          "metadata": {},
          "output_type": "execute_result"
        }
      ],
      "execution_count": 206
    },
    {
      "cell_type": "markdown",
      "source": "We see that the 'nan' values in 'genre' (2 cases) match the 'unknown' names in 'name', so we will replace the 'nan' values with the 'unknown' category as well.",
      "metadata": {}
    },
    {
      "cell_type": "code",
      "source": "#We fill in the missing values of 'name' in an 'unknown' category \ngames['genre'].fillna('unknown', inplace=True)",
      "metadata": {},
      "outputs": [],
      "execution_count": 207
    },
    {
      "cell_type": "markdown",
      "source": "Now we proceed to fill in missing values of 'critic_score'.",
      "metadata": {}
    },
    {
      "cell_type": "code",
      "source": "# We check the % of missing values in 'critic_score' \nnum_filas = games.shape[0]\nfila_ausentes1 = games['critic_score'].isnull().sum() \nprop_ausentes1 = fila_ausentes1 / num_filas *100 \nprop_ausentes1",
      "metadata": {},
      "outputs": [
        {
          "data": {
            "text/plain": [
              "51.31917439425665"
            ]
          },
          "execution_count": 208,
          "metadata": {},
          "output_type": "execute_result"
        }
      ],
      "execution_count": 208
    },
    {
      "cell_type": "markdown",
      "source": "The percentage of missing values is 51%, but in this case we will apply the assumption that we can replace them by the ‘simple imputation’ method.\n\nNext, we will check which mean or median will be the most convenient to use by comparing the column with some other candidate variable to be correlated with it, but first we will see if there is a pattern in its missing values compared to some candidate variable that explains it:",
      "metadata": {}
    },
    {
      "cell_type": "code",
      "source": "datos_ausentes = games[games['critic_score'].isnull()]\ndatos_no_ausentes = games[games['critic_score'].notnull()]\ncantidad_datos_ausentes = datos_ausentes['user_score'].value_counts(normalize = True)\ncantidad_datos_no_ausentes = datos_no_ausentes['user_score'].value_counts(normalize =True)\n\ntabla_contingencia1 = pd.DataFrame({'No Ausente': cantidad_datos_no_ausentes, 'Ausente': cantidad_datos_ausentes})\ntabla_contingencia1 = tabla_contingencia1.sort_values(by=['Ausente', 'No Ausente'], ascending=[False, False])\n\ntabla_contingencia1 # Let's investigate the missing values on another potential causal feature ('user_score')",
      "metadata": {},
      "outputs": [
        {
          "data": {
            "text/html": [
              "<div>\n",
              "<style scoped>\n",
              "    .dataframe tbody tr th:only-of-type {\n",
              "        vertical-align: middle;\n",
              "    }\n",
              "\n",
              "    .dataframe tbody tr th {\n",
              "        vertical-align: top;\n",
              "    }\n",
              "\n",
              "    .dataframe thead th {\n",
              "        text-align: right;\n",
              "    }\n",
              "</style>\n",
              "<table border=\"1\" class=\"dataframe\">\n",
              "  <thead>\n",
              "    <tr style=\"text-align: right;\">\n",
              "      <th></th>\n",
              "      <th>No Ausente</th>\n",
              "      <th>Ausente</th>\n",
              "    </tr>\n",
              "  </thead>\n",
              "  <tbody>\n",
              "    <tr>\n",
              "      <th>7.8</th>\n",
              "      <td>0.042468</td>\n",
              "      <td>0.045375</td>\n",
              "    </tr>\n",
              "    <tr>\n",
              "      <th>7.0</th>\n",
              "      <td>0.027932</td>\n",
              "      <td>0.041885</td>\n",
              "    </tr>\n",
              "    <tr>\n",
              "      <th>8.0</th>\n",
              "      <td>0.038050</td>\n",
              "      <td>0.040140</td>\n",
              "    </tr>\n",
              "    <tr>\n",
              "      <th>7.6</th>\n",
              "      <td>0.028645</td>\n",
              "      <td>0.033159</td>\n",
              "    </tr>\n",
              "    <tr>\n",
              "      <th>8.3</th>\n",
              "      <td>0.033633</td>\n",
              "      <td>0.031414</td>\n",
              "    </tr>\n",
              "    <tr>\n",
              "      <th>...</th>\n",
              "      <td>...</td>\n",
              "      <td>...</td>\n",
              "    </tr>\n",
              "    <tr>\n",
              "      <th>1.0</th>\n",
              "      <td>0.000285</td>\n",
              "      <td>NaN</td>\n",
              "    </tr>\n",
              "    <tr>\n",
              "      <th>1.5</th>\n",
              "      <td>0.000285</td>\n",
              "      <td>NaN</td>\n",
              "    </tr>\n",
              "    <tr>\n",
              "      <th>1.9</th>\n",
              "      <td>0.000285</td>\n",
              "      <td>NaN</td>\n",
              "    </tr>\n",
              "    <tr>\n",
              "      <th>2.3</th>\n",
              "      <td>0.000285</td>\n",
              "      <td>NaN</td>\n",
              "    </tr>\n",
              "    <tr>\n",
              "      <th>9.6</th>\n",
              "      <td>0.000285</td>\n",
              "      <td>NaN</td>\n",
              "    </tr>\n",
              "  </tbody>\n",
              "</table>\n",
              "<p>95 rows × 2 columns</p>\n",
              "</div>"
            ],
            "text/plain": [
              "     No Ausente   Ausente\n",
              "7.8    0.042468  0.045375\n",
              "7.0    0.027932  0.041885\n",
              "8.0    0.038050  0.040140\n",
              "7.6    0.028645  0.033159\n",
              "8.3    0.033633  0.031414\n",
              "..          ...       ...\n",
              "1.0    0.000285       NaN\n",
              "1.5    0.000285       NaN\n",
              "1.9    0.000285       NaN\n",
              "2.3    0.000285       NaN\n",
              "9.6    0.000285       NaN\n",
              "\n",
              "[95 rows x 2 columns]"
            ]
          },
          "execution_count": 209,
          "metadata": {},
          "output_type": "execute_result"
        }
      ],
      "execution_count": 209
    },
    {
      "cell_type": "markdown",
      "source": "It can be seen that there is no clear explanation that the missing values of the column ‘critic_score’ have a clear pattern with respect to the main candidate ‘user_score’ to see if there is any symmetry in its missing values.\n\nWe will now proceed to group the variable ‘user_score’ into categories to better work on filling in the missing values of ‘critic_score’ as it is the candidate variable that could best explain that score.",
      "metadata": {}
    },
    {
      "cell_type": "code",
      "source": "# We create a function to classify into different numerical groups based on 'user_score' ranges \ndef categorizar_user_score(user):\n    if  0<= user < 4:\n        return 'low user rating'\n    elif 4<= user <= 6:\n        return 'mid user rating'\n    else:\n        return 'high user rating' ",
      "metadata": {},
      "outputs": [],
      "execution_count": 210
    },
    {
      "cell_type": "code",
      "source": "#Create new category column of ‘user_score’.\ngames['cat_user_score'] = games['user_score'].apply(categorizar_user_score)",
      "metadata": {
        "scrolled": true
      },
      "outputs": [],
      "execution_count": 211
    },
    {
      "cell_type": "code",
      "source": "games_notna1 = games.dropna() #We create a dataframe without missing values. It will be useful for corrections later on.",
      "metadata": {},
      "outputs": [],
      "execution_count": 212
    },
    {
      "cell_type": "code",
      "source": "#We calculate the average of 'critic_score' grouped by 'user_score' \ncalcular_estadistica_por_grupo(games_notna1,'critic_score','cat_user_score',True,False)",
      "metadata": {},
      "outputs": [
        {
          "data": {
            "text/plain": [
              "cat_user_score\n",
              "alta puntuación usuario     73.329314\n",
              "media puntuación usuario    59.697876\n",
              "baja puntuación usuario     46.948529\n",
              "Name: critic_score, dtype: float64"
            ]
          },
          "execution_count": 213,
          "metadata": {},
          "output_type": "execute_result"
        }
      ],
      "execution_count": 213
    },
    {
      "cell_type": "code",
      "source": "#We calculate the median of 'critic_score' grouped by 'user_score' \ncalcular_estadistica_por_grupo(games_notna1,'critic_score','cat_user_score',False,False)",
      "metadata": {
        "scrolled": true
      },
      "outputs": [
        {
          "data": {
            "text/plain": [
              "cat_user_score\n",
              "alta puntuación usuario     75.0\n",
              "media puntuación usuario    59.0\n",
              "baja puntuación usuario     45.0\n",
              "Name: critic_score, dtype: float64"
            ]
          },
          "execution_count": 214,
          "metadata": {},
          "output_type": "execute_result"
        }
      ],
      "execution_count": 214
    },
    {
      "cell_type": "markdown",
      "source": "There is clearly a trend that the higher the user's score category, the higher the 'critic_score', which makes sense. Now, we will use the mean since there is practically no deviation in the data and in that sense, the mean is more representative.",
      "metadata": {}
    },
    {
      "cell_type": "code",
      "source": "#We create a function to replace the missing values. \nfor cat_user, media in calcular_estadistica_por_grupo(games_notna1, 'critic_score', 'cat_user_score',True, False).iteritems(): \n    games.loc[(games['cat_user_score'] == cat_user) & (games['critic_score'].isnull()), 'critic_score'] = media # Replace the missing values (filling in with the most representative variable, which is the user_score category)",
      "metadata": {},
      "outputs": [],
      "execution_count": 215
    },
    {
      "cell_type": "code",
      "source": "games.info() #Verifying the changes",
      "metadata": {},
      "outputs": [
        {
          "name": "stdout",
          "output_type": "stream",
          "text": "<class 'pandas.core.frame.DataFrame'>\n,RangeIndex: 16715 entries, 0 to 16714\n,Data columns (total 13 columns):\n, #   Column           Non-Null Count  Dtype  \n,---  ------           --------------  -----  \n, 0   name             16715 non-null  object \n, 1   platform         16715 non-null  object \n, 2   year_of_release  16715 non-null  float64\n, 3   genre            16715 non-null  object \n, 4   na_sales         16715 non-null  float64\n, 5   eu_sales         16715 non-null  float64\n, 6   jp_sales         16715 non-null  float64\n, 7   other_sales      16715 non-null  float64\n, 8   critic_score     16715 non-null  float64\n, 9   user_score       7590 non-null   float64\n, 10  rating           9949 non-null   object \n, 11  total_sales      16715 non-null  float64\n, 12  cat_user_score   16715 non-null  object \n,dtypes: float64(8), object(5)\n,memory usage: 1.7+ MB\n"
        }
      ],
      "execution_count": 216
    },
    {
      "cell_type": "code",
      "source": "games.describe() #Verify changes in the mean and standard deviation of ‘critic_score’.",
      "metadata": {
        "scrolled": true
      },
      "outputs": [
        {
          "data": {
            "text/html": [
              "<div>\n",
              "<style scoped>\n",
              "    .dataframe tbody tr th:only-of-type {\n",
              "        vertical-align: middle;\n",
              "    }\n",
              "\n",
              "    .dataframe tbody tr th {\n",
              "        vertical-align: top;\n",
              "    }\n",
              "\n",
              "    .dataframe thead th {\n",
              "        text-align: right;\n",
              "    }\n",
              "</style>\n",
              "<table border=\"1\" class=\"dataframe\">\n",
              "  <thead>\n",
              "    <tr style=\"text-align: right;\">\n",
              "      <th></th>\n",
              "      <th>year_of_release</th>\n",
              "      <th>na_sales</th>\n",
              "      <th>eu_sales</th>\n",
              "      <th>jp_sales</th>\n",
              "      <th>other_sales</th>\n",
              "      <th>critic_score</th>\n",
              "      <th>user_score</th>\n",
              "      <th>total_sales</th>\n",
              "    </tr>\n",
              "  </thead>\n",
              "  <tbody>\n",
              "    <tr>\n",
              "      <th>count</th>\n",
              "      <td>16715.000000</td>\n",
              "      <td>16715.000000</td>\n",
              "      <td>16715.000000</td>\n",
              "      <td>16715.000000</td>\n",
              "      <td>16715.000000</td>\n",
              "      <td>16715.000000</td>\n",
              "      <td>7590.000000</td>\n",
              "      <td>16715.000000</td>\n",
              "    </tr>\n",
              "    <tr>\n",
              "      <th>mean</th>\n",
              "      <td>2006.472270</td>\n",
              "      <td>0.263377</td>\n",
              "      <td>0.145060</td>\n",
              "      <td>0.077617</td>\n",
              "      <td>0.047342</td>\n",
              "      <td>70.991326</td>\n",
              "      <td>7.125046</td>\n",
              "      <td>0.533396</td>\n",
              "    </tr>\n",
              "    <tr>\n",
              "      <th>std</th>\n",
              "      <td>5.897158</td>\n",
              "      <td>0.813604</td>\n",
              "      <td>0.503339</td>\n",
              "      <td>0.308853</td>\n",
              "      <td>0.186731</td>\n",
              "      <td>10.136982</td>\n",
              "      <td>1.500006</td>\n",
              "      <td>1.548261</td>\n",
              "    </tr>\n",
              "    <tr>\n",
              "      <th>min</th>\n",
              "      <td>1980.000000</td>\n",
              "      <td>0.000000</td>\n",
              "      <td>0.000000</td>\n",
              "      <td>0.000000</td>\n",
              "      <td>0.000000</td>\n",
              "      <td>13.000000</td>\n",
              "      <td>0.000000</td>\n",
              "      <td>0.000000</td>\n",
              "    </tr>\n",
              "    <tr>\n",
              "      <th>25%</th>\n",
              "      <td>2003.000000</td>\n",
              "      <td>0.000000</td>\n",
              "      <td>0.000000</td>\n",
              "      <td>0.000000</td>\n",
              "      <td>0.000000</td>\n",
              "      <td>70.000000</td>\n",
              "      <td>6.400000</td>\n",
              "      <td>0.060000</td>\n",
              "    </tr>\n",
              "    <tr>\n",
              "      <th>50%</th>\n",
              "      <td>2007.000000</td>\n",
              "      <td>0.080000</td>\n",
              "      <td>0.020000</td>\n",
              "      <td>0.000000</td>\n",
              "      <td>0.010000</td>\n",
              "      <td>73.329314</td>\n",
              "      <td>7.500000</td>\n",
              "      <td>0.170000</td>\n",
              "    </tr>\n",
              "    <tr>\n",
              "      <th>75%</th>\n",
              "      <td>2010.000000</td>\n",
              "      <td>0.240000</td>\n",
              "      <td>0.110000</td>\n",
              "      <td>0.040000</td>\n",
              "      <td>0.030000</td>\n",
              "      <td>73.329314</td>\n",
              "      <td>8.200000</td>\n",
              "      <td>0.470000</td>\n",
              "    </tr>\n",
              "    <tr>\n",
              "      <th>max</th>\n",
              "      <td>2016.000000</td>\n",
              "      <td>41.360000</td>\n",
              "      <td>28.960000</td>\n",
              "      <td>10.220000</td>\n",
              "      <td>10.570000</td>\n",
              "      <td>98.000000</td>\n",
              "      <td>9.700000</td>\n",
              "      <td>82.540000</td>\n",
              "    </tr>\n",
              "  </tbody>\n",
              "</table>\n",
              "</div>"
            ],
            "text/plain": [
              "       year_of_release      na_sales      eu_sales      jp_sales  \\\n",
              "count     16715.000000  16715.000000  16715.000000  16715.000000   \n",
              "mean       2006.472270      0.263377      0.145060      0.077617   \n",
              "std           5.897158      0.813604      0.503339      0.308853   \n",
              "min        1980.000000      0.000000      0.000000      0.000000   \n",
              "25%        2003.000000      0.000000      0.000000      0.000000   \n",
              "50%        2007.000000      0.080000      0.020000      0.000000   \n",
              "75%        2010.000000      0.240000      0.110000      0.040000   \n",
              "max        2016.000000     41.360000     28.960000     10.220000   \n",
              "\n",
              "        other_sales  critic_score   user_score   total_sales  \n",
              "count  16715.000000  16715.000000  7590.000000  16715.000000  \n",
              "mean       0.047342     70.991326     7.125046      0.533396  \n",
              "std        0.186731     10.136982     1.500006      1.548261  \n",
              "min        0.000000     13.000000     0.000000      0.000000  \n",
              "25%        0.000000     70.000000     6.400000      0.060000  \n",
              "50%        0.010000     73.329314     7.500000      0.170000  \n",
              "75%        0.030000     73.329314     8.200000      0.470000  \n",
              "max       10.570000     98.000000     9.700000     82.540000  "
            ]
          },
          "execution_count": 217,
          "metadata": {},
          "output_type": "execute_result"
        }
      ],
      "execution_count": 217
    },
    {
      "cell_type": "markdown",
      "source": "We can observe that the new average is 70.99 compared to the 68.96 average before filling in the missing values, which indicates that there was not a significant deviation. We continue with the treatment of missing values for 'user_score'.",
      "metadata": {}
    },
    {
      "cell_type": "code",
      "source": "# We check the % of missing values in 'user_score'num_filas = games.shape[0]\nfila_ausentes2 = games['user_score'].isnull().sum() \nprop_ausentes2 = fila_ausentes2 / num_filas *100 \nprop_ausentes2",
      "metadata": {},
      "outputs": [
        {
          "data": {
            "text/plain": [
              "54.59168411606342"
            ]
          },
          "execution_count": 218,
          "metadata": {},
          "output_type": "execute_result"
        }
      ],
      "execution_count": 218
    },
    {
      "cell_type": "markdown",
      "source": "We see that the number of missing values is 54.59%, but in this case we will apply the assumption that we can replace them by the ‘Simple Imputation’ method.\n\nNext, we will check which mean or median will be the most convenient to use by comparing the column with some other candidate variable to be correlated with it, but first we will see if there is a pattern in its missing values compared to some candidate variable that explains it:",
      "metadata": {}
    },
    {
      "cell_type": "code",
      "source": "datos_ausentes = games[games['user_score'].isnull()]\ndatos_no_ausentes = games[games['user_score'].notnull()]\ncantidad_datos_ausentes = datos_ausentes['critic_score'].value_counts(normalize = True)\ncantidad_datos_no_ausentes = datos_no_ausentes['critic_score'].value_counts(normalize =True)\n\ntabla_contingencia2 = pd.DataFrame({'No Ausente': cantidad_datos_no_ausentes, 'Ausente': cantidad_datos_ausentes})\ntabla_contingencia2 = tabla_contingencia2.sort_values(by=['Ausente', 'No Ausente'], ascending=[False, False])\n\ntabla_contingencia2 # Let's investigate missing values on another potential causative characteristic (‘critic_score’)",
      "metadata": {},
      "outputs": [
        {
          "data": {
            "text/html": [
              "<div>\n",
              "<style scoped>\n",
              "    .dataframe tbody tr th:only-of-type {\n",
              "        vertical-align: middle;\n",
              "    }\n",
              "\n",
              "    .dataframe tbody tr th {\n",
              "        vertical-align: top;\n",
              "    }\n",
              "\n",
              "    .dataframe thead th {\n",
              "        text-align: right;\n",
              "    }\n",
              "</style>\n",
              "<table border=\"1\" class=\"dataframe\">\n",
              "  <thead>\n",
              "    <tr style=\"text-align: right;\">\n",
              "      <th></th>\n",
              "      <th>No Ausente</th>\n",
              "      <th>Ausente</th>\n",
              "    </tr>\n",
              "  </thead>\n",
              "  <tbody>\n",
              "    <tr>\n",
              "      <th>73.329314</th>\n",
              "      <td>0.049802</td>\n",
              "      <td>0.877260</td>\n",
              "    </tr>\n",
              "    <tr>\n",
              "      <th>66.000000</th>\n",
              "      <td>0.020290</td>\n",
              "      <td>0.005370</td>\n",
              "    </tr>\n",
              "    <tr>\n",
              "      <th>68.000000</th>\n",
              "      <td>0.022661</td>\n",
              "      <td>0.005151</td>\n",
              "    </tr>\n",
              "    <tr>\n",
              "      <th>65.000000</th>\n",
              "      <td>0.019236</td>\n",
              "      <td>0.005041</td>\n",
              "    </tr>\n",
              "    <tr>\n",
              "      <th>62.000000</th>\n",
              "      <td>0.016733</td>\n",
              "      <td>0.004712</td>\n",
              "    </tr>\n",
              "    <tr>\n",
              "      <th>...</th>\n",
              "      <td>...</td>\n",
              "      <td>...</td>\n",
              "    </tr>\n",
              "    <tr>\n",
              "      <th>29.000000</th>\n",
              "      <td>0.000395</td>\n",
              "      <td>NaN</td>\n",
              "    </tr>\n",
              "    <tr>\n",
              "      <th>13.000000</th>\n",
              "      <td>0.000132</td>\n",
              "      <td>NaN</td>\n",
              "    </tr>\n",
              "    <tr>\n",
              "      <th>17.000000</th>\n",
              "      <td>0.000132</td>\n",
              "      <td>NaN</td>\n",
              "    </tr>\n",
              "    <tr>\n",
              "      <th>21.000000</th>\n",
              "      <td>0.000132</td>\n",
              "      <td>NaN</td>\n",
              "    </tr>\n",
              "    <tr>\n",
              "      <th>22.000000</th>\n",
              "      <td>0.000132</td>\n",
              "      <td>NaN</td>\n",
              "    </tr>\n",
              "  </tbody>\n",
              "</table>\n",
              "<p>85 rows × 2 columns</p>\n",
              "</div>"
            ],
            "text/plain": [
              "           No Ausente   Ausente\n",
              "73.329314    0.049802  0.877260\n",
              "66.000000    0.020290  0.005370\n",
              "68.000000    0.022661  0.005151\n",
              "65.000000    0.019236  0.005041\n",
              "62.000000    0.016733  0.004712\n",
              "...               ...       ...\n",
              "29.000000    0.000395       NaN\n",
              "13.000000    0.000132       NaN\n",
              "17.000000    0.000132       NaN\n",
              "21.000000    0.000132       NaN\n",
              "22.000000    0.000132       NaN\n",
              "\n",
              "[85 rows x 2 columns]"
            ]
          },
          "execution_count": 219,
          "metadata": {},
          "output_type": "execute_result"
        }
      ],
      "execution_count": 219
    },
    {
      "cell_type": "markdown",
      "source": "It can be observed that for the score values of 73.32, there is a high explanation for the missing values in 'user_score'. This is because we previously used this variable to fill in the missing values in 'critic_score'. Given this, we will continue using this variable, as it is also the only one that could potentially have a correlation with 'user_score'.\n\nNext, we will use a variable that groups 'critic_score' into categories to avoid missing values when replacing the means/medians in 'user_score', just as we did in the previous exercise.",
      "metadata": {}
    },
    {
      "cell_type": "code",
      "source": "# We create a function to classify into different numerical groups based on 'critic_score' ranges\ndef categorizar_critic_score(critic):\n    if  0<= critic < 34:\n        return 'baja puntuación critic'\n    elif 34<= critic <= 66:\n        return 'media puntuación critic'\n    else:\n        return 'alta puntuación critic' ",
      "metadata": {},
      "outputs": [],
      "execution_count": 220
    },
    {
      "cell_type": "code",
      "source": "#Creating a new category column\ngames['cat_critic_score'] = games['critic_score'].apply(categorizar_critic_score)# Crear una columna con categorías",
      "metadata": {},
      "outputs": [],
      "execution_count": 221
    },
    {
      "cell_type": "code",
      "source": "games.info() #verifying the changes",
      "metadata": {
        "scrolled": true
      },
      "outputs": [
        {
          "name": "stdout",
          "output_type": "stream",
          "text": "<class 'pandas.core.frame.DataFrame'>\n,RangeIndex: 16715 entries, 0 to 16714\n,Data columns (total 14 columns):\n, #   Column            Non-Null Count  Dtype  \n,---  ------            --------------  -----  \n, 0   name              16715 non-null  object \n, 1   platform          16715 non-null  object \n, 2   year_of_release   16715 non-null  float64\n, 3   genre             16715 non-null  object \n, 4   na_sales          16715 non-null  float64\n, 5   eu_sales          16715 non-null  float64\n, 6   jp_sales          16715 non-null  float64\n, 7   other_sales       16715 non-null  float64\n, 8   critic_score      16715 non-null  float64\n, 9   user_score        7590 non-null   float64\n, 10  rating            9949 non-null   object \n, 11  total_sales       16715 non-null  float64\n, 12  cat_user_score    16715 non-null  object \n, 13  cat_critic_score  16715 non-null  object \n,dtypes: float64(8), object(6)\n,memory usage: 1.8+ MB\n"
        }
      ],
      "execution_count": 222
    },
    {
      "cell_type": "code",
      "source": "games_notna2 = games.dropna() #We create another new dataframe without missing values, since we created another column",
      "metadata": {},
      "outputs": [],
      "execution_count": 223
    },
    {
      "cell_type": "code",
      "source": "#Calculating the 'user_score' average grouped by 'critic_score'\ncalcular_estadistica_por_grupo(games_notna2,'user_score','cat_critic_score',True,False)",
      "metadata": {},
      "outputs": [
        {
          "data": {
            "text/plain": [
              "cat_critic_score\n",
              "alta puntuación critic     7.652961\n",
              "media puntuación critic    6.205010\n",
              "baja puntuación critic     3.800000\n",
              "Name: user_score, dtype: float64"
            ]
          },
          "execution_count": 224,
          "metadata": {},
          "output_type": "execute_result"
        }
      ],
      "execution_count": 224
    },
    {
      "cell_type": "code",
      "source": "#Calculating the 'user_score' median grouped by 'critic_score'\ncalcular_estadistica_por_grupo(games_notna2,'user_score','cat_critic_score',False,False)",
      "metadata": {},
      "outputs": [
        {
          "data": {
            "text/plain": [
              "cat_critic_score\n",
              "alta puntuación critic     7.8\n",
              "media puntuación critic    6.4\n",
              "baja puntuación critic     3.7\n",
              "Name: user_score, dtype: float64"
            ]
          },
          "execution_count": 225,
          "metadata": {},
          "output_type": "execute_result"
        }
      ],
      "execution_count": 225
    },
    {
      "cell_type": "markdown",
      "source": "In general you see a trend where the higher the ‘critic_score’ category then the higher the ‘user_score’ score, which makes sense. Now, we will use the mean as there is practically no deviation in the data and in that sense, the mean is more representative.",
      "metadata": {}
    },
    {
      "cell_type": "code",
      "source": "#We create a function to replace the missing values\nfor cat_critic_score, media in calcular_estadistica_por_grupo(games_notna2, 'user_score', 'cat_critic_score',True, False).iteritems(): \n    games.loc[(games['cat_critic_score'] == cat_critic_score) & (games['user_score'].isnull()), 'user_score'] = media # Reemplazar los valores ausentes (completando con la variable más representativa que es la categoria de cat_critic_score)",
      "metadata": {},
      "outputs": [],
      "execution_count": 226
    },
    {
      "cell_type": "code",
      "source": "games.info() #Verifying the changes",
      "metadata": {},
      "outputs": [
        {
          "name": "stdout",
          "output_type": "stream",
          "text": "<class 'pandas.core.frame.DataFrame'>\n,RangeIndex: 16715 entries, 0 to 16714\n,Data columns (total 14 columns):\n, #   Column            Non-Null Count  Dtype  \n,---  ------            --------------  -----  \n, 0   name              16715 non-null  object \n, 1   platform          16715 non-null  object \n, 2   year_of_release   16715 non-null  float64\n, 3   genre             16715 non-null  object \n, 4   na_sales          16715 non-null  float64\n, 5   eu_sales          16715 non-null  float64\n, 6   jp_sales          16715 non-null  float64\n, 7   other_sales       16715 non-null  float64\n, 8   critic_score      16715 non-null  float64\n, 9   user_score        16715 non-null  float64\n, 10  rating            9949 non-null   object \n, 11  total_sales       16715 non-null  float64\n, 12  cat_user_score    16715 non-null  object \n, 13  cat_critic_score  16715 non-null  object \n,dtypes: float64(8), object(6)\n,memory usage: 1.8+ MB\n"
        }
      ],
      "execution_count": 227
    },
    {
      "cell_type": "code",
      "source": "games.describe()",
      "metadata": {
        "scrolled": true
      },
      "outputs": [
        {
          "data": {
            "text/html": [
              "<div>\n",
              "<style scoped>\n",
              "    .dataframe tbody tr th:only-of-type {\n",
              "        vertical-align: middle;\n",
              "    }\n",
              "\n",
              "    .dataframe tbody tr th {\n",
              "        vertical-align: top;\n",
              "    }\n",
              "\n",
              "    .dataframe thead th {\n",
              "        text-align: right;\n",
              "    }\n",
              "</style>\n",
              "<table border=\"1\" class=\"dataframe\">\n",
              "  <thead>\n",
              "    <tr style=\"text-align: right;\">\n",
              "      <th></th>\n",
              "      <th>year_of_release</th>\n",
              "      <th>na_sales</th>\n",
              "      <th>eu_sales</th>\n",
              "      <th>jp_sales</th>\n",
              "      <th>other_sales</th>\n",
              "      <th>critic_score</th>\n",
              "      <th>user_score</th>\n",
              "      <th>total_sales</th>\n",
              "    </tr>\n",
              "  </thead>\n",
              "  <tbody>\n",
              "    <tr>\n",
              "      <th>count</th>\n",
              "      <td>16715.000000</td>\n",
              "      <td>16715.000000</td>\n",
              "      <td>16715.000000</td>\n",
              "      <td>16715.000000</td>\n",
              "      <td>16715.000000</td>\n",
              "      <td>16715.000000</td>\n",
              "      <td>16715.000000</td>\n",
              "      <td>16715.000000</td>\n",
              "    </tr>\n",
              "    <tr>\n",
              "      <th>mean</th>\n",
              "      <td>2006.472270</td>\n",
              "      <td>0.263377</td>\n",
              "      <td>0.145060</td>\n",
              "      <td>0.077617</td>\n",
              "      <td>0.047342</td>\n",
              "      <td>70.991326</td>\n",
              "      <td>7.345915</td>\n",
              "      <td>0.533396</td>\n",
              "    </tr>\n",
              "    <tr>\n",
              "      <th>std</th>\n",
              "      <td>5.897158</td>\n",
              "      <td>0.813604</td>\n",
              "      <td>0.503339</td>\n",
              "      <td>0.308853</td>\n",
              "      <td>0.186731</td>\n",
              "      <td>10.136982</td>\n",
              "      <td>1.077412</td>\n",
              "      <td>1.548261</td>\n",
              "    </tr>\n",
              "    <tr>\n",
              "      <th>min</th>\n",
              "      <td>1980.000000</td>\n",
              "      <td>0.000000</td>\n",
              "      <td>0.000000</td>\n",
              "      <td>0.000000</td>\n",
              "      <td>0.000000</td>\n",
              "      <td>13.000000</td>\n",
              "      <td>0.000000</td>\n",
              "      <td>0.000000</td>\n",
              "    </tr>\n",
              "    <tr>\n",
              "      <th>25%</th>\n",
              "      <td>2003.000000</td>\n",
              "      <td>0.000000</td>\n",
              "      <td>0.000000</td>\n",
              "      <td>0.000000</td>\n",
              "      <td>0.000000</td>\n",
              "      <td>70.000000</td>\n",
              "      <td>7.300000</td>\n",
              "      <td>0.060000</td>\n",
              "    </tr>\n",
              "    <tr>\n",
              "      <th>50%</th>\n",
              "      <td>2007.000000</td>\n",
              "      <td>0.080000</td>\n",
              "      <td>0.020000</td>\n",
              "      <td>0.000000</td>\n",
              "      <td>0.010000</td>\n",
              "      <td>73.329314</td>\n",
              "      <td>7.652961</td>\n",
              "      <td>0.170000</td>\n",
              "    </tr>\n",
              "    <tr>\n",
              "      <th>75%</th>\n",
              "      <td>2010.000000</td>\n",
              "      <td>0.240000</td>\n",
              "      <td>0.110000</td>\n",
              "      <td>0.040000</td>\n",
              "      <td>0.030000</td>\n",
              "      <td>73.329314</td>\n",
              "      <td>7.652961</td>\n",
              "      <td>0.470000</td>\n",
              "    </tr>\n",
              "    <tr>\n",
              "      <th>max</th>\n",
              "      <td>2016.000000</td>\n",
              "      <td>41.360000</td>\n",
              "      <td>28.960000</td>\n",
              "      <td>10.220000</td>\n",
              "      <td>10.570000</td>\n",
              "      <td>98.000000</td>\n",
              "      <td>9.700000</td>\n",
              "      <td>82.540000</td>\n",
              "    </tr>\n",
              "  </tbody>\n",
              "</table>\n",
              "</div>"
            ],
            "text/plain": [
              "       year_of_release      na_sales      eu_sales      jp_sales  \\\n",
              "count     16715.000000  16715.000000  16715.000000  16715.000000   \n",
              "mean       2006.472270      0.263377      0.145060      0.077617   \n",
              "std           5.897158      0.813604      0.503339      0.308853   \n",
              "min        1980.000000      0.000000      0.000000      0.000000   \n",
              "25%        2003.000000      0.000000      0.000000      0.000000   \n",
              "50%        2007.000000      0.080000      0.020000      0.000000   \n",
              "75%        2010.000000      0.240000      0.110000      0.040000   \n",
              "max        2016.000000     41.360000     28.960000     10.220000   \n",
              "\n",
              "        other_sales  critic_score    user_score   total_sales  \n",
              "count  16715.000000  16715.000000  16715.000000  16715.000000  \n",
              "mean       0.047342     70.991326      7.345915      0.533396  \n",
              "std        0.186731     10.136982      1.077412      1.548261  \n",
              "min        0.000000     13.000000      0.000000      0.000000  \n",
              "25%        0.000000     70.000000      7.300000      0.060000  \n",
              "50%        0.010000     73.329314      7.652961      0.170000  \n",
              "75%        0.030000     73.329314      7.652961      0.470000  \n",
              "max       10.570000     98.000000      9.700000     82.540000  "
            ]
          },
          "execution_count": 228,
          "metadata": {},
          "output_type": "execute_result"
        }
      ],
      "execution_count": 228
    },
    {
      "cell_type": "markdown",
      "source": "We can see from the two previous tables that there are no longer any missing values for ‘user_score’. Moreover, the new average is 7.34 with a standard deviation of 1.07. Comparing this to the previous mean and standard deviation, which were 7.12 and 1.5 respectively, the differences are minimal for our proper analysis.\n\nWe will now proceed to correct the last variable with missing values: ‘rating’.",
      "metadata": {}
    },
    {
      "cell_type": "code",
      "source": "# We check the % of missing values in 'rating'\nnum_filas = games.shape[0]\nfila_ausentes4 = games['rating'].isnull().sum() \nprop_ausentes4 = fila_ausentes4 / num_filas *100 #porcentaje de valores ausentes\nprop_ausentes4",
      "metadata": {},
      "outputs": [
        {
          "data": {
            "text/plain": [
              "40.478612025127134"
            ]
          },
          "execution_count": 229,
          "metadata": {},
          "output_type": "execute_result"
        }
      ],
      "execution_count": 229
    },
    {
      "cell_type": "code",
      "source": "# We review how the rating behaves based on the platforms (the main candidate variable to fill in the missing values)\nrating_agrupados = games.groupby(['platform', 'rating']).size().reset_index(name='count')\n\n# Creating a pivot table\ntabla_pivote = pd.pivot_table(rating_agrupados, values='count', index='platform', columns='rating', fill_value=0)\n",
      "metadata": {},
      "outputs": [],
      "execution_count": 230
    },
    {
      "cell_type": "code",
      "source": "tabla_pivote",
      "metadata": {},
      "outputs": [
        {
          "data": {
            "text/html": [
              "<div>\n",
              "<style scoped>\n",
              "    .dataframe tbody tr th:only-of-type {\n",
              "        vertical-align: middle;\n",
              "    }\n",
              "\n",
              "    .dataframe tbody tr th {\n",
              "        vertical-align: top;\n",
              "    }\n",
              "\n",
              "    .dataframe thead th {\n",
              "        text-align: right;\n",
              "    }\n",
              "</style>\n",
              "<table border=\"1\" class=\"dataframe\">\n",
              "  <thead>\n",
              "    <tr style=\"text-align: right;\">\n",
              "      <th>rating</th>\n",
              "      <th>AO</th>\n",
              "      <th>E</th>\n",
              "      <th>E10+</th>\n",
              "      <th>EC</th>\n",
              "      <th>K-A</th>\n",
              "      <th>M</th>\n",
              "      <th>RP</th>\n",
              "      <th>T</th>\n",
              "    </tr>\n",
              "    <tr>\n",
              "      <th>platform</th>\n",
              "      <th></th>\n",
              "      <th></th>\n",
              "      <th></th>\n",
              "      <th></th>\n",
              "      <th></th>\n",
              "      <th></th>\n",
              "      <th></th>\n",
              "      <th></th>\n",
              "    </tr>\n",
              "  </thead>\n",
              "  <tbody>\n",
              "    <tr>\n",
              "      <th>3DS</th>\n",
              "      <td>0</td>\n",
              "      <td>92</td>\n",
              "      <td>76</td>\n",
              "      <td>0</td>\n",
              "      <td>0</td>\n",
              "      <td>12</td>\n",
              "      <td>0</td>\n",
              "      <td>48</td>\n",
              "    </tr>\n",
              "    <tr>\n",
              "      <th>DC</th>\n",
              "      <td>0</td>\n",
              "      <td>3</td>\n",
              "      <td>0</td>\n",
              "      <td>0</td>\n",
              "      <td>0</td>\n",
              "      <td>1</td>\n",
              "      <td>0</td>\n",
              "      <td>10</td>\n",
              "    </tr>\n",
              "    <tr>\n",
              "      <th>DS</th>\n",
              "      <td>0</td>\n",
              "      <td>876</td>\n",
              "      <td>259</td>\n",
              "      <td>2</td>\n",
              "      <td>0</td>\n",
              "      <td>10</td>\n",
              "      <td>0</td>\n",
              "      <td>126</td>\n",
              "    </tr>\n",
              "    <tr>\n",
              "      <th>GBA</th>\n",
              "      <td>0</td>\n",
              "      <td>426</td>\n",
              "      <td>25</td>\n",
              "      <td>0</td>\n",
              "      <td>0</td>\n",
              "      <td>7</td>\n",
              "      <td>0</td>\n",
              "      <td>64</td>\n",
              "    </tr>\n",
              "    <tr>\n",
              "      <th>GC</th>\n",
              "      <td>0</td>\n",
              "      <td>230</td>\n",
              "      <td>31</td>\n",
              "      <td>1</td>\n",
              "      <td>0</td>\n",
              "      <td>38</td>\n",
              "      <td>0</td>\n",
              "      <td>169</td>\n",
              "    </tr>\n",
              "    <tr>\n",
              "      <th>PC</th>\n",
              "      <td>0</td>\n",
              "      <td>138</td>\n",
              "      <td>76</td>\n",
              "      <td>2</td>\n",
              "      <td>2</td>\n",
              "      <td>256</td>\n",
              "      <td>3</td>\n",
              "      <td>297</td>\n",
              "    </tr>\n",
              "    <tr>\n",
              "      <th>PS</th>\n",
              "      <td>0</td>\n",
              "      <td>116</td>\n",
              "      <td>0</td>\n",
              "      <td>0</td>\n",
              "      <td>1</td>\n",
              "      <td>20</td>\n",
              "      <td>0</td>\n",
              "      <td>71</td>\n",
              "    </tr>\n",
              "    <tr>\n",
              "      <th>PS2</th>\n",
              "      <td>0</td>\n",
              "      <td>556</td>\n",
              "      <td>125</td>\n",
              "      <td>1</td>\n",
              "      <td>0</td>\n",
              "      <td>223</td>\n",
              "      <td>0</td>\n",
              "      <td>576</td>\n",
              "    </tr>\n",
              "    <tr>\n",
              "      <th>PS3</th>\n",
              "      <td>0</td>\n",
              "      <td>211</td>\n",
              "      <td>140</td>\n",
              "      <td>0</td>\n",
              "      <td>0</td>\n",
              "      <td>265</td>\n",
              "      <td>0</td>\n",
              "      <td>336</td>\n",
              "    </tr>\n",
              "    <tr>\n",
              "      <th>PS4</th>\n",
              "      <td>0</td>\n",
              "      <td>54</td>\n",
              "      <td>40</td>\n",
              "      <td>0</td>\n",
              "      <td>0</td>\n",
              "      <td>76</td>\n",
              "      <td>0</td>\n",
              "      <td>85</td>\n",
              "    </tr>\n",
              "    <tr>\n",
              "      <th>PSP</th>\n",
              "      <td>0</td>\n",
              "      <td>188</td>\n",
              "      <td>106</td>\n",
              "      <td>0</td>\n",
              "      <td>0</td>\n",
              "      <td>49</td>\n",
              "      <td>0</td>\n",
              "      <td>201</td>\n",
              "    </tr>\n",
              "    <tr>\n",
              "      <th>PSV</th>\n",
              "      <td>0</td>\n",
              "      <td>22</td>\n",
              "      <td>28</td>\n",
              "      <td>0</td>\n",
              "      <td>0</td>\n",
              "      <td>33</td>\n",
              "      <td>0</td>\n",
              "      <td>68</td>\n",
              "    </tr>\n",
              "    <tr>\n",
              "      <th>Wii</th>\n",
              "      <td>0</td>\n",
              "      <td>503</td>\n",
              "      <td>242</td>\n",
              "      <td>2</td>\n",
              "      <td>0</td>\n",
              "      <td>33</td>\n",
              "      <td>0</td>\n",
              "      <td>222</td>\n",
              "    </tr>\n",
              "    <tr>\n",
              "      <th>WiiU</th>\n",
              "      <td>0</td>\n",
              "      <td>35</td>\n",
              "      <td>42</td>\n",
              "      <td>0</td>\n",
              "      <td>0</td>\n",
              "      <td>15</td>\n",
              "      <td>0</td>\n",
              "      <td>13</td>\n",
              "    </tr>\n",
              "    <tr>\n",
              "      <th>X360</th>\n",
              "      <td>0</td>\n",
              "      <td>247</td>\n",
              "      <td>168</td>\n",
              "      <td>0</td>\n",
              "      <td>0</td>\n",
              "      <td>294</td>\n",
              "      <td>0</td>\n",
              "      <td>343</td>\n",
              "    </tr>\n",
              "    <tr>\n",
              "      <th>XB</th>\n",
              "      <td>1</td>\n",
              "      <td>248</td>\n",
              "      <td>31</td>\n",
              "      <td>0</td>\n",
              "      <td>0</td>\n",
              "      <td>161</td>\n",
              "      <td>0</td>\n",
              "      <td>292</td>\n",
              "    </tr>\n",
              "    <tr>\n",
              "      <th>XOne</th>\n",
              "      <td>0</td>\n",
              "      <td>45</td>\n",
              "      <td>31</td>\n",
              "      <td>0</td>\n",
              "      <td>0</td>\n",
              "      <td>70</td>\n",
              "      <td>0</td>\n",
              "      <td>40</td>\n",
              "    </tr>\n",
              "  </tbody>\n",
              "</table>\n",
              "</div>"
            ],
            "text/plain": [
              "rating    AO    E  E10+  EC  K-A    M  RP    T\n",
              "platform                                      \n",
              "3DS        0   92    76   0    0   12   0   48\n",
              "DC         0    3     0   0    0    1   0   10\n",
              "DS         0  876   259   2    0   10   0  126\n",
              "GBA        0  426    25   0    0    7   0   64\n",
              "GC         0  230    31   1    0   38   0  169\n",
              "PC         0  138    76   2    2  256   3  297\n",
              "PS         0  116     0   0    1   20   0   71\n",
              "PS2        0  556   125   1    0  223   0  576\n",
              "PS3        0  211   140   0    0  265   0  336\n",
              "PS4        0   54    40   0    0   76   0   85\n",
              "PSP        0  188   106   0    0   49   0  201\n",
              "PSV        0   22    28   0    0   33   0   68\n",
              "Wii        0  503   242   2    0   33   0  222\n",
              "WiiU       0   35    42   0    0   15   0   13\n",
              "X360       0  247   168   0    0  294   0  343\n",
              "XB         1  248    31   0    0  161   0  292\n",
              "XOne       0   45    31   0    0   70   0   40"
            ]
          },
          "execution_count": 231,
          "metadata": {},
          "output_type": "execute_result"
        }
      ],
      "execution_count": 231
    },
    {
      "cell_type": "markdown",
      "source": "We see that there is no clear distribution regarding the classification and the gaming console used, so it will be better to fill the missing values with an 'unknown' variable since there is also a large percentage of missing values.",
      "metadata": {}
    },
    {
      "cell_type": "code",
      "source": "#We fill in the missing values of 'rating' in an 'unknown' category\ngames['rating'].fillna('unknown', inplace=True)",
      "metadata": {},
      "outputs": [],
      "execution_count": 232
    },
    {
      "cell_type": "code",
      "source": "games.info()",
      "metadata": {},
      "outputs": [
        {
          "name": "stdout",
          "output_type": "stream",
          "text": "<class 'pandas.core.frame.DataFrame'>\n,RangeIndex: 16715 entries, 0 to 16714\n,Data columns (total 14 columns):\n, #   Column            Non-Null Count  Dtype  \n,---  ------            --------------  -----  \n, 0   name              16715 non-null  object \n, 1   platform          16715 non-null  object \n, 2   year_of_release   16715 non-null  float64\n, 3   genre             16715 non-null  object \n, 4   na_sales          16715 non-null  float64\n, 5   eu_sales          16715 non-null  float64\n, 6   jp_sales          16715 non-null  float64\n, 7   other_sales       16715 non-null  float64\n, 8   critic_score      16715 non-null  float64\n, 9   user_score        16715 non-null  float64\n, 10  rating            16715 non-null  object \n, 11  total_sales       16715 non-null  float64\n, 12  cat_user_score    16715 non-null  object \n, 13  cat_critic_score  16715 non-null  object \n,dtypes: float64(8), object(6)\n,memory usage: 1.8+ MB\n"
        }
      ],
      "execution_count": 233
    },
    {
      "cell_type": "markdown",
      "source": "## 5. Analizing Data and Visualization <a id='analysis'></a>",
      "metadata": {}
    },
    {
      "cell_type": "markdown",
      "source": "### 5.1 Analysis of games released over time <a id='analysis1'></a>",
      "metadata": {}
    },
    {
      "cell_type": "markdown",
      "source": "Next, we will look at how many games were released in different years and analyse whether the data from each period is significant.",
      "metadata": {}
    },
    {
      "cell_type": "code",
      "source": "# We calculate the number of games released per year\njuegos_por_año = games.groupby('year_of_release')['name'].count().reset_index(name='num_juegos')",
      "metadata": {},
      "outputs": [],
      "execution_count": 234
    },
    {
      "cell_type": "code",
      "source": "plt.figure(figsize=(10, 6))\nplt.bar(juegos_por_año['year_of_release'], juegos_por_año['num_juegos'], color='skyblue')\nplt.title('Number of Games Released per Year')\nplt.xlabel('Year of Release')\nplt.ylabel('Number of Games')\nplt.show()",
      "metadata": {},
      "outputs": [
        {
          "data": {
            "image/png": "[encoded data removed]",
            "text/plain": [
              "<Figure size 720x432 with 1 Axes>"
            ]
          },
          "metadata": {
            "needs_background": "light"
          },
          "output_type": "display_data"
        }
      ],
      "execution_count": 235
    },
    {
      "cell_type": "markdown",
      "source": "We can conclude that the highest number of games sold was between 2005 and 2012, but in general video games have had an explosion in sales since the beginning of 1995.",
      "metadata": {}
    },
    {
      "cell_type": "markdown",
      "source": "### 5.2 Analysis of sales by platform and years <a id='analysis2'></a>",
      "metadata": {}
    },
    {
      "cell_type": "markdown",
      "source": "Next, we will proceed to observe how sales vary from one platform to another by selecting the platforms with the highest total sales. Additionally, we will analyse the sales behaviour of platforms that used to be popular but now have no sales.",
      "metadata": {}
    },
    {
      "cell_type": "code",
      "source": "# Calculating the total sales of the games by platform\nventas_por_plataforma = games.groupby('platform')['total_sales'].sum().sort_values(ascending = False).reset_index(name='total_sales')\nventas_por_plataforma.head(7)",
      "metadata": {},
      "outputs": [
        {
          "data": {
            "text/html": [
              "<div>\n",
              "<style scoped>\n",
              "    .dataframe tbody tr th:only-of-type {\n",
              "        vertical-align: middle;\n",
              "    }\n",
              "\n",
              "    .dataframe tbody tr th {\n",
              "        vertical-align: top;\n",
              "    }\n",
              "\n",
              "    .dataframe thead th {\n",
              "        text-align: right;\n",
              "    }\n",
              "</style>\n",
              "<table border=\"1\" class=\"dataframe\">\n",
              "  <thead>\n",
              "    <tr style=\"text-align: right;\">\n",
              "      <th></th>\n",
              "      <th>platform</th>\n",
              "      <th>total_sales</th>\n",
              "    </tr>\n",
              "  </thead>\n",
              "  <tbody>\n",
              "    <tr>\n",
              "      <th>0</th>\n",
              "      <td>PS2</td>\n",
              "      <td>1255.77</td>\n",
              "    </tr>\n",
              "    <tr>\n",
              "      <th>1</th>\n",
              "      <td>X360</td>\n",
              "      <td>971.42</td>\n",
              "    </tr>\n",
              "    <tr>\n",
              "      <th>2</th>\n",
              "      <td>PS3</td>\n",
              "      <td>939.65</td>\n",
              "    </tr>\n",
              "    <tr>\n",
              "      <th>3</th>\n",
              "      <td>Wii</td>\n",
              "      <td>907.51</td>\n",
              "    </tr>\n",
              "    <tr>\n",
              "      <th>4</th>\n",
              "      <td>DS</td>\n",
              "      <td>806.12</td>\n",
              "    </tr>\n",
              "    <tr>\n",
              "      <th>5</th>\n",
              "      <td>PS</td>\n",
              "      <td>730.86</td>\n",
              "    </tr>\n",
              "    <tr>\n",
              "      <th>6</th>\n",
              "      <td>GBA</td>\n",
              "      <td>317.85</td>\n",
              "    </tr>\n",
              "  </tbody>\n",
              "</table>\n",
              "</div>"
            ],
            "text/plain": [
              "  platform  total_sales\n",
              "0      PS2      1255.77\n",
              "1     X360       971.42\n",
              "2      PS3       939.65\n",
              "3      Wii       907.51\n",
              "4       DS       806.12\n",
              "5       PS       730.86\n",
              "6      GBA       317.85"
            ]
          },
          "execution_count": 236,
          "metadata": {},
          "output_type": "execute_result"
        }
      ],
      "execution_count": 236
    },
    {
      "cell_type": "markdown",
      "source": "We proceed to select the top 5 platforms with the highest sales (over 700 million) to conduct a more thorough analysis of their annual sales.",
      "metadata": {}
    },
    {
      "cell_type": "code",
      "source": "#Filtering the platforms with highest sales\nbest_sales = ventas_por_plataforma[ventas_por_plataforma['total_sales'] > 700]\n\n#We filter the original DataFrame by top 5 platforms\ngames_top = games[games['platform'].isin(best_sales['platform'])]\n\n# Get the unique platforms for the colour coding\nplataformas_unicas = best_sales['platform'].unique()\n\n# Create sub-charts for each platform\nfig, axes = plt.subplots(nrows=len(plataformas_unicas), figsize=(8, 10), sharex=True)\n\nfor i, plataforma in enumerate(plataformas_unicas):\n    datos_plataforma = games_top[games_top['platform'] == plataforma]\n    axes[i].hist(datos_plataforma['year_of_release'], bins=20, alpha=0.7, label=plataforma)\n    axes[i].set_title(f'Distribución de {plataforma} por Año')\n    axes[i].set_xlabel('Year of Release')\n    axes[i].set_ylabel('Number of Games')\n    axes[i].legend()\n\nplt.tight_layout()\nplt.show()",
      "metadata": {},
      "outputs": [
        {
          "data": {
            "image/png": "[encoded data removed]",
            "text/plain": [
              "<Figure size 576x720 with 6 Axes>"
            ]
          },
          "metadata": {
            "needs_background": "light"
          },
          "output_type": "display_data"
        }
      ],
      "execution_count": 237
    },
    {
      "cell_type": "markdown",
      "source": "We can conclude that, at least, the most successful platforms in sales have a normal distribution throughout their useful life, where in the first 5 years their popularity grows until it reaches a peak in sales and then another approximately 5 years until they leave the market and their popularity declines. We also observe that a new generation appears when the previous one is leaving the market, as happened with the PS1, PS2, and PS3.",
      "metadata": {}
    },
    {
      "cell_type": "markdown",
      "source": "### 5.3 Analysis of platform sales leaders <a id='analysis3'></a>",
      "metadata": {}
    },
    {
      "cell_type": "markdown",
      "source": "We will then proceed to analyse the leading sales platforms and see which ones are growing and disappearing.\n\nTo create a model for the next year (2017) it will be necessary to create a Dataframe that encompasses the most representative data that can explain the sales, popularity, platforms, etc. of the last time. In that sense and as seen above, only data from 2005 to 2016 will be considered as it shows the life span of video games in the last 20 years.",
      "metadata": {}
    },
    {
      "cell_type": "code",
      "source": "# Creating dataframes with data between 2005 and 2016\ndata_2017 = games.query('2005 <= year_of_release <= 2016')\ndata_2017.info() #Checking the new datafram",
      "metadata": {},
      "outputs": [
        {
          "name": "stdout",
          "output_type": "stream",
          "text": "<class 'pandas.core.frame.DataFrame'>\n,Int64Index: 11467 entries, 0 to 16714\n,Data columns (total 14 columns):\n, #   Column            Non-Null Count  Dtype  \n,---  ------            --------------  -----  \n, 0   name              11467 non-null  object \n, 1   platform          11467 non-null  object \n, 2   year_of_release   11467 non-null  float64\n, 3   genre             11467 non-null  object \n, 4   na_sales          11467 non-null  float64\n, 5   eu_sales          11467 non-null  float64\n, 6   jp_sales          11467 non-null  float64\n, 7   other_sales       11467 non-null  float64\n, 8   critic_score      11467 non-null  float64\n, 9   user_score        11467 non-null  float64\n, 10  rating            11467 non-null  object \n, 11  total_sales       11467 non-null  float64\n, 12  cat_user_score    11467 non-null  object \n, 13  cat_critic_score  11467 non-null  object \n,dtypes: float64(8), object(6)\n,memory usage: 1.3+ MB\n"
        }
      ],
      "execution_count": 238
    },
    {
      "cell_type": "code",
      "source": "# Leading sales platforms between 2005 and 2016\nlider_ventas = data_2017.groupby('platform')['total_sales'].sum().sort_values(ascending = False).reset_index(name='total_sales')\nlider_ventas.head(5)",
      "metadata": {},
      "outputs": [
        {
          "data": {
            "text/html": [
              "<div>\n",
              "<style scoped>\n",
              "    .dataframe tbody tr th:only-of-type {\n",
              "        vertical-align: middle;\n",
              "    }\n",
              "\n",
              "    .dataframe tbody tr th {\n",
              "        vertical-align: top;\n",
              "    }\n",
              "\n",
              "    .dataframe thead th {\n",
              "        text-align: right;\n",
              "    }\n",
              "</style>\n",
              "<table border=\"1\" class=\"dataframe\">\n",
              "  <thead>\n",
              "    <tr style=\"text-align: right;\">\n",
              "      <th></th>\n",
              "      <th>platform</th>\n",
              "      <th>total_sales</th>\n",
              "    </tr>\n",
              "  </thead>\n",
              "  <tbody>\n",
              "    <tr>\n",
              "      <th>0</th>\n",
              "      <td>X360</td>\n",
              "      <td>971.42</td>\n",
              "    </tr>\n",
              "    <tr>\n",
              "      <th>1</th>\n",
              "      <td>PS3</td>\n",
              "      <td>939.65</td>\n",
              "    </tr>\n",
              "    <tr>\n",
              "      <th>2</th>\n",
              "      <td>Wii</td>\n",
              "      <td>907.51</td>\n",
              "    </tr>\n",
              "    <tr>\n",
              "      <th>3</th>\n",
              "      <td>DS</td>\n",
              "      <td>788.83</td>\n",
              "    </tr>\n",
              "    <tr>\n",
              "      <th>4</th>\n",
              "      <td>PS2</td>\n",
              "      <td>448.67</td>\n",
              "    </tr>\n",
              "  </tbody>\n",
              "</table>\n",
              "</div>"
            ],
            "text/plain": [
              "  platform  total_sales\n",
              "0     X360       971.42\n",
              "1      PS3       939.65\n",
              "2      Wii       907.51\n",
              "3       DS       788.83\n",
              "4      PS2       448.67"
            ]
          },
          "execution_count": 239,
          "metadata": {},
          "output_type": "execute_result"
        }
      ],
      "execution_count": 239
    },
    {
      "cell_type": "markdown",
      "source": "To effectively see which ones grow and which ones decrease over those 10 years, it will be better to separate them into groups of 5 years to observe how they behave in their first and last 5 years.",
      "metadata": {}
    },
    {
      "cell_type": "code",
      "source": "#  Create dataframe with data between 2005 and 2010\ndata_2010 = games.query('2005 <= year_of_release <= 2010')\n# Leading sales platforms between 2005 and 2010\nlider_ventas_2010 = data_2010.groupby('platform')['total_sales'].sum().sort_values(ascending = False).reset_index(name='total_sales')\nlider_ventas_2010.head(5)",
      "metadata": {},
      "outputs": [
        {
          "data": {
            "text/html": [
              "<div>\n",
              "<style scoped>\n",
              "    .dataframe tbody tr th:only-of-type {\n",
              "        vertical-align: middle;\n",
              "    }\n",
              "\n",
              "    .dataframe tbody tr th {\n",
              "        vertical-align: top;\n",
              "    }\n",
              "\n",
              "    .dataframe thead th {\n",
              "        text-align: right;\n",
              "    }\n",
              "</style>\n",
              "<table border=\"1\" class=\"dataframe\">\n",
              "  <thead>\n",
              "    <tr style=\"text-align: right;\">\n",
              "      <th></th>\n",
              "      <th>platform</th>\n",
              "      <th>total_sales</th>\n",
              "    </tr>\n",
              "  </thead>\n",
              "  <tbody>\n",
              "    <tr>\n",
              "      <th>0</th>\n",
              "      <td>Wii</td>\n",
              "      <td>812.49</td>\n",
              "    </tr>\n",
              "    <tr>\n",
              "      <th>1</th>\n",
              "      <td>DS</td>\n",
              "      <td>750.10</td>\n",
              "    </tr>\n",
              "    <tr>\n",
              "      <th>2</th>\n",
              "      <td>X360</td>\n",
              "      <td>591.04</td>\n",
              "    </tr>\n",
              "    <tr>\n",
              "      <th>3</th>\n",
              "      <td>PS3</td>\n",
              "      <td>485.77</td>\n",
              "    </tr>\n",
              "    <tr>\n",
              "      <th>4</th>\n",
              "      <td>PS2</td>\n",
              "      <td>448.22</td>\n",
              "    </tr>\n",
              "  </tbody>\n",
              "</table>\n",
              "</div>"
            ],
            "text/plain": [
              "  platform  total_sales\n",
              "0      Wii       812.49\n",
              "1       DS       750.10\n",
              "2     X360       591.04\n",
              "3      PS3       485.77\n",
              "4      PS2       448.22"
            ]
          },
          "execution_count": 240,
          "metadata": {},
          "output_type": "execute_result"
        }
      ],
      "execution_count": 240
    },
    {
      "cell_type": "code",
      "source": "# Create dataframe with data between 2011 y 2016\ndata_2016 = games.query('2011 <= year_of_release <= 2016')\n# Leading sales platforms between 2011 y 2016\nlider_ventas_2016 = data_2016.groupby('platform')['total_sales'].sum().sort_values(ascending = False).reset_index(name='total_sales')\nlider_ventas_2016.head(5)",
      "metadata": {},
      "outputs": [
        {
          "data": {
            "text/html": [
              "<div>\n",
              "<style scoped>\n",
              "    .dataframe tbody tr th:only-of-type {\n",
              "        vertical-align: middle;\n",
              "    }\n",
              "\n",
              "    .dataframe tbody tr th {\n",
              "        vertical-align: top;\n",
              "    }\n",
              "\n",
              "    .dataframe thead th {\n",
              "        text-align: right;\n",
              "    }\n",
              "</style>\n",
              "<table border=\"1\" class=\"dataframe\">\n",
              "  <thead>\n",
              "    <tr style=\"text-align: right;\">\n",
              "      <th></th>\n",
              "      <th>platform</th>\n",
              "      <th>total_sales</th>\n",
              "    </tr>\n",
              "  </thead>\n",
              "  <tbody>\n",
              "    <tr>\n",
              "      <th>0</th>\n",
              "      <td>PS3</td>\n",
              "      <td>453.88</td>\n",
              "    </tr>\n",
              "    <tr>\n",
              "      <th>1</th>\n",
              "      <td>X360</td>\n",
              "      <td>380.38</td>\n",
              "    </tr>\n",
              "    <tr>\n",
              "      <th>2</th>\n",
              "      <td>PS4</td>\n",
              "      <td>314.14</td>\n",
              "    </tr>\n",
              "    <tr>\n",
              "      <th>3</th>\n",
              "      <td>3DS</td>\n",
              "      <td>259.00</td>\n",
              "    </tr>\n",
              "    <tr>\n",
              "      <th>4</th>\n",
              "      <td>XOne</td>\n",
              "      <td>159.32</td>\n",
              "    </tr>\n",
              "  </tbody>\n",
              "</table>\n",
              "</div>"
            ],
            "text/plain": [
              "  platform  total_sales\n",
              "0      PS3       453.88\n",
              "1     X360       380.38\n",
              "2      PS4       314.14\n",
              "3      3DS       259.00\n",
              "4     XOne       159.32"
            ]
          },
          "execution_count": 241,
          "metadata": {},
          "output_type": "execute_result"
        }
      ],
      "execution_count": 241
    },
    {
      "cell_type": "markdown",
      "source": "Given the 3 tables above we can see that for the top 5 best selling platforms globally, i.e. between 2005 and 2016 the best selling platforms were: x360, PS4 and Wii respectively, but we see that during the first 5 years, the most popular were Wii, DS and x360, and then between 2011 and 2016 the popularity of these decreased, among them the Wii and DS platform left the top 5 in sales, only the X360 remained within the top. Therefore, we can say that the X360 was the one that remained the most popular in the last 10 years. We see that the PS4 appears as one of the overall sales leaders, but it only appeared within the last 5 years (2011-2016).\n\nIn short, the potentially profitable platforms for 2017 may be PS4 and 3DS mainly because they are new consoles that are still evolving in sales, while the PS3 and X360 while they have had the highest sales over the 10 years, there is a possibility that in the next 5 years these will disappear from the market, although for 2017 we would expect to continue to count on their popularity.",
      "metadata": {}
    },
    {
      "cell_type": "markdown",
      "source": "### 5.4 Analysis of global game sales by platform <a id='analysis4'></a>",
      "metadata": {}
    },
    {
      "cell_type": "markdown",
      "source": "Next, we will proceed to analyse the global sales of all the games using box plots, broken down by platform, and we will check if the differences in sales are significant.",
      "metadata": {}
    },
    {
      "cell_type": "code",
      "source": "plt.figure(figsize=(15, 20))\n\n# Obtaining the unique platform list\nplataformas_unicas = data_2017['platform'].unique()\n\n# We create subplots\nfor i, plataforma in enumerate(plataformas_unicas, 1):\n    plt.subplot(6, 5, i)  # 3 rows, 2 columns, i-th subplot\n    plt.boxplot(data_2017[data_2017['platform'] == plataforma]['total_sales'])\n    plt.title(f'Boxplot - {plataforma}')\n\nplt.tight_layout()\nplt.show()",
      "metadata": {},
      "outputs": [
        {
          "data": {
            "image/png": "[encoded data removed]",
            "text/plain": [
              "<Figure size 1080x1440 with 16 Axes>"
            ]
          },
          "metadata": {
            "needs_background": "light"
          },
          "output_type": "display_data"
        }
      ],
      "execution_count": 242
    },
    {
      "cell_type": "code",
      "source": "# Leading sales platforms between 2005 y 2016\nventas_prom = data_2017.groupby('platform')['total_sales'].mean().sort_values(ascending = False).reset_index(name='total_sales')\nventas_prom",
      "metadata": {},
      "outputs": [
        {
          "data": {
            "text/html": [
              "<div>\n",
              "<style scoped>\n",
              "    .dataframe tbody tr th:only-of-type {\n",
              "        vertical-align: middle;\n",
              "    }\n",
              "\n",
              "    .dataframe tbody tr th {\n",
              "        vertical-align: top;\n",
              "    }\n",
              "\n",
              "    .dataframe thead th {\n",
              "        text-align: right;\n",
              "    }\n",
              "</style>\n",
              "<table border=\"1\" class=\"dataframe\">\n",
              "  <thead>\n",
              "    <tr style=\"text-align: right;\">\n",
              "      <th></th>\n",
              "      <th>platform</th>\n",
              "      <th>total_sales</th>\n",
              "    </tr>\n",
              "  </thead>\n",
              "  <tbody>\n",
              "    <tr>\n",
              "      <th>0</th>\n",
              "      <td>PS4</td>\n",
              "      <td>0.801378</td>\n",
              "    </tr>\n",
              "    <tr>\n",
              "      <th>1</th>\n",
              "      <td>X360</td>\n",
              "      <td>0.769746</td>\n",
              "    </tr>\n",
              "    <tr>\n",
              "      <th>2</th>\n",
              "      <td>PS3</td>\n",
              "      <td>0.705973</td>\n",
              "    </tr>\n",
              "    <tr>\n",
              "      <th>3</th>\n",
              "      <td>Wii</td>\n",
              "      <td>0.687508</td>\n",
              "    </tr>\n",
              "    <tr>\n",
              "      <th>4</th>\n",
              "      <td>XOne</td>\n",
              "      <td>0.645020</td>\n",
              "    </tr>\n",
              "    <tr>\n",
              "      <th>5</th>\n",
              "      <td>WiiU</td>\n",
              "      <td>0.559116</td>\n",
              "    </tr>\n",
              "    <tr>\n",
              "      <th>6</th>\n",
              "      <td>3DS</td>\n",
              "      <td>0.498077</td>\n",
              "    </tr>\n",
              "    <tr>\n",
              "      <th>7</th>\n",
              "      <td>PS2</td>\n",
              "      <td>0.408253</td>\n",
              "    </tr>\n",
              "    <tr>\n",
              "      <th>8</th>\n",
              "      <td>DS</td>\n",
              "      <td>0.370865</td>\n",
              "    </tr>\n",
              "    <tr>\n",
              "      <th>9</th>\n",
              "      <td>GC</td>\n",
              "      <td>0.277660</td>\n",
              "    </tr>\n",
              "    <tr>\n",
              "      <th>10</th>\n",
              "      <td>XB</td>\n",
              "      <td>0.244286</td>\n",
              "    </tr>\n",
              "    <tr>\n",
              "      <th>11</th>\n",
              "      <td>PSP</td>\n",
              "      <td>0.240360</td>\n",
              "    </tr>\n",
              "    <tr>\n",
              "      <th>12</th>\n",
              "      <td>GBA</td>\n",
              "      <td>0.236333</td>\n",
              "    </tr>\n",
              "    <tr>\n",
              "      <th>13</th>\n",
              "      <td>PC</td>\n",
              "      <td>0.206687</td>\n",
              "    </tr>\n",
              "    <tr>\n",
              "      <th>14</th>\n",
              "      <td>PSV</td>\n",
              "      <td>0.125744</td>\n",
              "    </tr>\n",
              "    <tr>\n",
              "      <th>15</th>\n",
              "      <td>DC</td>\n",
              "      <td>0.030000</td>\n",
              "    </tr>\n",
              "  </tbody>\n",
              "</table>\n",
              "</div>"
            ],
            "text/plain": [
              "   platform  total_sales\n",
              "0       PS4     0.801378\n",
              "1      X360     0.769746\n",
              "2       PS3     0.705973\n",
              "3       Wii     0.687508\n",
              "4      XOne     0.645020\n",
              "5      WiiU     0.559116\n",
              "6       3DS     0.498077\n",
              "7       PS2     0.408253\n",
              "8        DS     0.370865\n",
              "9        GC     0.277660\n",
              "10       XB     0.244286\n",
              "11      PSP     0.240360\n",
              "12      GBA     0.236333\n",
              "13       PC     0.206687\n",
              "14      PSV     0.125744\n",
              "15       DC     0.030000"
            ]
          },
          "execution_count": 243,
          "metadata": {},
          "output_type": "execute_result"
        }
      ],
      "execution_count": 243
    },
    {
      "cell_type": "markdown",
      "source": "From the above boxplot and the table of average sales per platform we can extract that:\n\n- the median of the global sales of the platforms does not exceed the range of 0.25 - 0.5 million usd. \n- All have a similar distribution, except for the older platforms, such as PSV, XB, GC and DC.\n- All have atypical data that exceeds the upper limit of 1 million usd.\n- The platforms with the highest average global sales are: PS4 (0.8 million), X360 (0.76 million) and PS3 (0.7 million).\n- The platforms with the lowest average sales are precisely the oldest platforms of the generation.\n- All this data is considering the range of years from 2005 to 2016.",
      "metadata": {}
    },
    {
      "cell_type": "markdown",
      "source": "### 5.5 Analysis of reviews versus sales of the Wii platform <a id='analysis5'></a>",
      "metadata": {}
    },
    {
      "cell_type": "markdown",
      "source": "Next, we will analyse how user and professional reviews affect the sales of a popular platform, in this case we will choose the ‘Wii’. We will create a scatter plot to make the differences more graphical and calculate the correlation between reviews and sales (this considering the dataframe for the period between 2005 and 2016).",
      "metadata": {}
    },
    {
      "cell_type": "code",
      "source": "# Filter the data for the 'Wii' platform to obtain the upper limit and see if it is\n# necessary to omit the outliers for this analysis.\n\ndata_wii = data_2017[data_2017['platform'] == 'Wii']\n\n# Calculate the first quartile (Q1) and third quartile (Q3)\nQ1 = np.percentile(data_wii['total_sales'], 25)\nQ3 = np.percentile(data_wii['total_sales'], 75)\n\n# Calculate the interquartile range (IQR)\nIQR = Q3 - Q1\n\n# Define limits for outliers\nlimite_inferior = Q1 - 1.5 * IQR\nlimite_superior = Q3 + 1.5 * IQR",
      "metadata": {},
      "outputs": [],
      "execution_count": 244
    },
    {
      "cell_type": "code",
      "source": "limite_superior",
      "metadata": {},
      "outputs": [
        {
          "data": {
            "text/plain": [
              "1.08625"
            ]
          },
          "execution_count": 245,
          "metadata": {},
          "output_type": "execute_result"
        }
      ],
      "execution_count": 245
    },
    {
      "cell_type": "code",
      "source": "limite_inferior",
      "metadata": {},
      "outputs": [
        {
          "data": {
            "text/plain": [
              "-0.52375"
            ]
          },
          "execution_count": 246,
          "metadata": {},
          "output_type": "execute_result"
        }
      ],
      "execution_count": 246
    },
    {
      "cell_type": "code",
      "source": "# We corroborate the % of outliers that corresponds to the total data\nvalor_total = data_wii['total_sales'].value_counts().sum() \nfiltro = data_wii['total_sales'] > limite_superior\nporcentaje = (filtro.sum()/valor_total)*100\n\nprint(f\"Porcentaje: {porcentaje:.2f}%\") ",
      "metadata": {},
      "outputs": [
        {
          "name": "stdout",
          "output_type": "stream",
          "text": "Porcentaje: 10.53%\n"
        }
      ],
      "execution_count": 247
    },
    {
      "cell_type": "code",
      "source": "valor_total #Number of data in the dataframe 'data_wii'",
      "metadata": {},
      "outputs": [
        {
          "data": {
            "text/plain": [
              "1320"
            ]
          },
          "execution_count": 248,
          "metadata": {},
          "output_type": "execute_result"
        }
      ],
      "execution_count": 248
    },
    {
      "cell_type": "markdown",
      "source": "We see that the sample is relatively high and the percentage of outliers is high (>10%). We will filter these values and compare whether the resulting data had large changes in their mean and standard deviation.",
      "metadata": {}
    },
    {
      "cell_type": "code",
      "source": "# Store the data without outliers in a separate DataFrame for 'total_sales'\nsales_wii = data_wii.query('0 <= total_sales <= @limite_superior')\nsales_wii['total_sales'].describe() #we check the created DataFrame",
      "metadata": {},
      "outputs": [
        {
          "data": {
            "text/plain": [
              "count    1181.000000\n",
              "mean        0.253514\n",
              "std         0.247634\n",
              "min         0.010000\n",
              "25%         0.080000\n",
              "50%         0.160000\n",
              "75%         0.360000\n",
              "max         1.070000\n",
              "Name: total_sales, dtype: float64"
            ]
          },
          "execution_count": 249,
          "metadata": {},
          "output_type": "execute_result"
        }
      ],
      "execution_count": 249
    },
    {
      "cell_type": "code",
      "source": "data_wii['total_sales'].describe() ",
      "metadata": {},
      "outputs": [
        {
          "data": {
            "text/plain": [
              "count    1320.000000\n",
              "mean        0.687508\n",
              "std         3.126609\n",
              "min         0.010000\n",
              "25%         0.080000\n",
              "50%         0.190000\n",
              "75%         0.482500\n",
              "max        82.540000\n",
              "Name: total_sales, dtype: float64"
            ]
          },
          "execution_count": 250,
          "metadata": {},
          "output_type": "execute_result"
        }
      ],
      "execution_count": 250
    },
    {
      "cell_type": "markdown",
      "source": "We see that the outliers considerably affect the results of the total sales data, so it will be better to continue with the original dataframe ‘data_wii’.",
      "metadata": {}
    },
    {
      "cell_type": "code",
      "source": "# Analysis of variables that may influence total sales \n\nvariables_num = ['critic_score', 'user_score','total_sales']\n\n# We create a correlation diagram to complement the analysis with numerical values \npd.plotting.scatter_matrix(data_wii[variables_num], figsize=(9, 9))",
      "metadata": {},
      "outputs": [
        {
          "data": {
            "text/plain": [
              "array([[<AxesSubplot:xlabel='critic_score', ylabel='critic_score'>,\n",
              "        <AxesSubplot:xlabel='user_score', ylabel='critic_score'>,\n",
              "        <AxesSubplot:xlabel='total_sales', ylabel='critic_score'>],\n",
              "       [<AxesSubplot:xlabel='critic_score', ylabel='user_score'>,\n",
              "        <AxesSubplot:xlabel='user_score', ylabel='user_score'>,\n",
              "        <AxesSubplot:xlabel='total_sales', ylabel='user_score'>],\n",
              "       [<AxesSubplot:xlabel='critic_score', ylabel='total_sales'>,\n",
              "        <AxesSubplot:xlabel='user_score', ylabel='total_sales'>,\n",
              "        <AxesSubplot:xlabel='total_sales', ylabel='total_sales'>]],\n",
              "      dtype=object)"
            ]
          },
          "execution_count": 251,
          "metadata": {},
          "output_type": "execute_result"
        },
        {
          "data": {
            "image/png": "[encoded data removed]",
            "text/plain": [
              "<Figure size 648x648 with 9 Axes>"
            ]
          },
          "metadata": {
            "needs_background": "light"
          },
          "output_type": "display_data"
        }
      ],
      "execution_count": 251
    },
    {
      "cell_type": "code",
      "source": "#we use a correlation matrix to complement the graphs.\ncorr_matrix = data_wii[variables_num].corr() \ncorr_matrix",
      "metadata": {},
      "outputs": [
        {
          "data": {
            "text/html": [
              "<div>\n",
              "<style scoped>\n",
              "    .dataframe tbody tr th:only-of-type {\n",
              "        vertical-align: middle;\n",
              "    }\n",
              "\n",
              "    .dataframe tbody tr th {\n",
              "        vertical-align: top;\n",
              "    }\n",
              "\n",
              "    .dataframe thead th {\n",
              "        text-align: right;\n",
              "    }\n",
              "</style>\n",
              "<table border=\"1\" class=\"dataframe\">\n",
              "  <thead>\n",
              "    <tr style=\"text-align: right;\">\n",
              "      <th></th>\n",
              "      <th>critic_score</th>\n",
              "      <th>user_score</th>\n",
              "      <th>total_sales</th>\n",
              "    </tr>\n",
              "  </thead>\n",
              "  <tbody>\n",
              "    <tr>\n",
              "      <th>critic_score</th>\n",
              "      <td>1.000000</td>\n",
              "      <td>0.732602</td>\n",
              "      <td>0.089870</td>\n",
              "    </tr>\n",
              "    <tr>\n",
              "      <th>user_score</th>\n",
              "      <td>0.732602</td>\n",
              "      <td>1.000000</td>\n",
              "      <td>0.054175</td>\n",
              "    </tr>\n",
              "    <tr>\n",
              "      <th>total_sales</th>\n",
              "      <td>0.089870</td>\n",
              "      <td>0.054175</td>\n",
              "      <td>1.000000</td>\n",
              "    </tr>\n",
              "  </tbody>\n",
              "</table>\n",
              "</div>"
            ],
            "text/plain": [
              "              critic_score  user_score  total_sales\n",
              "critic_score      1.000000    0.732602     0.089870\n",
              "user_score        0.732602    1.000000     0.054175\n",
              "total_sales       0.089870    0.054175     1.000000"
            ]
          },
          "execution_count": 252,
          "metadata": {},
          "output_type": "execute_result"
        }
      ],
      "execution_count": 252
    },
    {
      "cell_type": "markdown",
      "source": "We can conclude from these scatter plots and the correlation matrix for the ‘Wii’ platform that:\n\n- There is a very similar distribution of ‘critic_score’ and ‘user_score’ data in relation to total sales.\n- There is no direct or indirect correlation between user and professional reviews and total sales (indices of 0.05 and 0.08 respectively).\n- While there is no correlation between scores and sales, it can be seen that there is an increase in sales (outliers) when scores are higher than 70 for professional reviews and 7 for user reviews.",
      "metadata": {}
    },
    {
      "cell_type": "markdown",
      "source": "### 5.6 Analysis of the same games on multiple platforms <a id='analysis6'></a>",
      "metadata": {}
    },
    {
      "cell_type": "markdown",
      "source": "Next, we will proceed to compare the sales of the same games on other platforms. For this we will take a sample of games that are on more than one platform, considering the dataframe between 2005 and 2016.",
      "metadata": {}
    },
    {
      "cell_type": "code",
      "source": "#We create a dataframe to find the games that are on more than one platform\njuegos_2 = data_2017[data_2017.duplicated(subset='name', keep=False)]",
      "metadata": {
        "scrolled": true
      },
      "outputs": [],
      "execution_count": 253
    },
    {
      "cell_type": "code",
      "source": "# Function to compare bar charts\ndef comparar_graf_barras(dataframes, juegos, descrip, descrip2):\n    num_plots = len(dataframes)\n    plt.figure(figsize=(3 * num_plots, 5))\n\n    for i, (df, juego) in enumerate(zip(dataframes, juegos), 1):\n        plt.subplot(2, 2, i)\n        plt.bar(df.index, df, label=juego, alpha=0.7)\n        plt.title(descrip)\n        plt.xlabel(descrip2)\n        plt.legend()\n\n    # Adjust the space between subplots\n    plt.tight_layout()\n    plt.show()",
      "metadata": {},
      "outputs": [],
      "execution_count": 254
    },
    {
      "cell_type": "code",
      "source": "# We filter by game sample\njuegos_seleccionados = ['Grand Theft Auto V', 'Call of Duty: Black Ops II', 'Call of Duty: Modern Warfare 3', 'Just Dance 3']\n\n# We calculated the average total sales per platform for each of the selected games. \ndataframes_seleccionados = [juegos_2[juegos_2['name'] == juego].groupby('platform')['total_sales'].mean() for juego in juegos_seleccionados]",
      "metadata": {},
      "outputs": [],
      "execution_count": 255
    },
    {
      "cell_type": "code",
      "source": "# We compare in the bar charts\ncomparar_graf_barras(dataframes_seleccionados, juegos_seleccionados, 'Ventas promedio por plataforma en millones usd', 'Plataforma')",
      "metadata": {},
      "outputs": [
        {
          "data": {
            "image/png": "[encoded data removed]",
            "text/plain": [
              "<Figure size 864x360 with 4 Axes>"
            ]
          },
          "metadata": {
            "needs_background": "light"
          },
          "output_type": "display_data"
        }
      ],
      "execution_count": 281
    },
    {
      "cell_type": "markdown",
      "source": "We did an analysis of 4 games in terms of their sales with respect to the platforms on which they were released and from this we can conclude that:\n\n- The most successful platforms for mainly non-Nintendo games are: PS3 and X360. For the game ‘Just Dance 3’ there is more sales success on the Wii platform despite the fact that it is a multiplatform game.\n- The ‘Call of Duty’ games have very similar sales behaviour on their platforms.\n- Only the game ‘Grand Theft Auto V’ has sales success on more than 2 platforms: PS3, PS4, X360 and XOne.\n- The game with the highest sales success across platforms is ‘Grand Theft Auto V’ and the game with the lowest sales is ‘Just Dance 3’.",
      "metadata": {}
    },
    {
      "cell_type": "markdown",
      "source": "### 5.7 Global sales analysis by gender <a id='analysis7'></a>",
      "metadata": {}
    },
    {
      "cell_type": "markdown",
      "source": "We will proceed to analyse the distribution of games by genre and their behaviour in terms of global sales.",
      "metadata": {}
    },
    {
      "cell_type": "code",
      "source": "# We obtain the total sales of all games by genre\nventas_por_genero = data_2017.groupby('genre')['total_sales'].sum().reset_index(name='venta_juegos').sort_values(by='venta_juegos', ascending=False)\nventas_por_genero",
      "metadata": {},
      "outputs": [
        {
          "data": {
            "text/html": [
              "<div>\n",
              "<style scoped>\n",
              "    .dataframe tbody tr th:only-of-type {\n",
              "        vertical-align: middle;\n",
              "    }\n",
              "\n",
              "    .dataframe tbody tr th {\n",
              "        vertical-align: top;\n",
              "    }\n",
              "\n",
              "    .dataframe thead th {\n",
              "        text-align: right;\n",
              "    }\n",
              "</style>\n",
              "<table border=\"1\" class=\"dataframe\">\n",
              "  <thead>\n",
              "    <tr style=\"text-align: right;\">\n",
              "      <th></th>\n",
              "      <th>genre</th>\n",
              "      <th>venta_juegos</th>\n",
              "    </tr>\n",
              "  </thead>\n",
              "  <tbody>\n",
              "    <tr>\n",
              "      <th>0</th>\n",
              "      <td>Action</td>\n",
              "      <td>1221.34</td>\n",
              "    </tr>\n",
              "    <tr>\n",
              "      <th>10</th>\n",
              "      <td>Sports</td>\n",
              "      <td>870.41</td>\n",
              "    </tr>\n",
              "    <tr>\n",
              "      <th>8</th>\n",
              "      <td>Shooter</td>\n",
              "      <td>764.73</td>\n",
              "    </tr>\n",
              "    <tr>\n",
              "      <th>3</th>\n",
              "      <td>Misc</td>\n",
              "      <td>626.85</td>\n",
              "    </tr>\n",
              "    <tr>\n",
              "      <th>7</th>\n",
              "      <td>Role-Playing</td>\n",
              "      <td>553.81</td>\n",
              "    </tr>\n",
              "    <tr>\n",
              "      <th>6</th>\n",
              "      <td>Racing</td>\n",
              "      <td>359.16</td>\n",
              "    </tr>\n",
              "    <tr>\n",
              "      <th>4</th>\n",
              "      <td>Platform</td>\n",
              "      <td>304.03</td>\n",
              "    </tr>\n",
              "    <tr>\n",
              "      <th>9</th>\n",
              "      <td>Simulation</td>\n",
              "      <td>271.63</td>\n",
              "    </tr>\n",
              "    <tr>\n",
              "      <th>2</th>\n",
              "      <td>Fighting</td>\n",
              "      <td>211.74</td>\n",
              "    </tr>\n",
              "    <tr>\n",
              "      <th>1</th>\n",
              "      <td>Adventure</td>\n",
              "      <td>150.17</td>\n",
              "    </tr>\n",
              "    <tr>\n",
              "      <th>5</th>\n",
              "      <td>Puzzle</td>\n",
              "      <td>110.99</td>\n",
              "    </tr>\n",
              "    <tr>\n",
              "      <th>11</th>\n",
              "      <td>Strategy</td>\n",
              "      <td>80.08</td>\n",
              "    </tr>\n",
              "  </tbody>\n",
              "</table>\n",
              "</div>"
            ],
            "text/plain": [
              "           genre  venta_juegos\n",
              "0         Action       1221.34\n",
              "10        Sports        870.41\n",
              "8        Shooter        764.73\n",
              "3           Misc        626.85\n",
              "7   Role-Playing        553.81\n",
              "6         Racing        359.16\n",
              "4       Platform        304.03\n",
              "9     Simulation        271.63\n",
              "2       Fighting        211.74\n",
              "1      Adventure        150.17\n",
              "5         Puzzle        110.99\n",
              "11      Strategy         80.08"
            ]
          },
          "execution_count": 257,
          "metadata": {},
          "output_type": "execute_result"
        }
      ],
      "execution_count": 257
    },
    {
      "cell_type": "code",
      "source": "#We graphed the above.\nplt.figure(figsize=(15, 6))\nplt.bar(ventas_por_genero['genre'], ventas_por_genero['venta_juegos'], color='red')\nplt.title('Video Game Sales by genre between 2005 and 2016')\nplt.xlabel('Genre')\nplt.ylabel('Sales in million of USD')\nplt.show()",
      "metadata": {},
      "outputs": [
        {
          "data": {
            "image/png": "[encoded data removed]",
            "text/plain": [
              "<Figure size 1080x432 with 1 Axes>"
            ]
          },
          "metadata": {
            "needs_background": "light"
          },
          "output_type": "display_data"
        }
      ],
      "execution_count": 258
    },
    {
      "cell_type": "markdown",
      "source": "We can conclude that in the last 10 years, the most predominant games in terms of sales have been: action, sports, and shooting, each surpassing almost 800 million dollars in sales. On the other hand, the least sold were adventure, puzzle, and strategy games. These genres apply to all platforms without distinction.",
      "metadata": {}
    },
    {
      "cell_type": "markdown",
      "source": "## 6. Analysis per Region <a id='region'></a>",
      "metadata": {}
    },
    {
      "cell_type": "markdown",
      "source": "### 6.1 Analysis of 5 main platforms <a id='region1'></a>",
      "metadata": {}
    },
    {
      "cell_type": "markdown",
      "source": "We will analyse the 5 platforms with the largest market shares by comparing their behaviour in different regions.",
      "metadata": {}
    },
    {
      "cell_type": "code",
      "source": "# Leading sales platforms between 2005 and 2016\nlider_ventas = data_2017.groupby('platform')['total_sales'].sum().sort_values(ascending=False).reset_index(name='total_sales')\nlider_ventas.head()",
      "metadata": {},
      "outputs": [
        {
          "data": {
            "text/html": [
              "<div>\n",
              "<style scoped>\n",
              "    .dataframe tbody tr th:only-of-type {\n",
              "        vertical-align: middle;\n",
              "    }\n",
              "\n",
              "    .dataframe tbody tr th {\n",
              "        vertical-align: top;\n",
              "    }\n",
              "\n",
              "    .dataframe thead th {\n",
              "        text-align: right;\n",
              "    }\n",
              "</style>\n",
              "<table border=\"1\" class=\"dataframe\">\n",
              "  <thead>\n",
              "    <tr style=\"text-align: right;\">\n",
              "      <th></th>\n",
              "      <th>platform</th>\n",
              "      <th>total_sales</th>\n",
              "    </tr>\n",
              "  </thead>\n",
              "  <tbody>\n",
              "    <tr>\n",
              "      <th>0</th>\n",
              "      <td>X360</td>\n",
              "      <td>971.42</td>\n",
              "    </tr>\n",
              "    <tr>\n",
              "      <th>1</th>\n",
              "      <td>PS3</td>\n",
              "      <td>939.65</td>\n",
              "    </tr>\n",
              "    <tr>\n",
              "      <th>2</th>\n",
              "      <td>Wii</td>\n",
              "      <td>907.51</td>\n",
              "    </tr>\n",
              "    <tr>\n",
              "      <th>3</th>\n",
              "      <td>DS</td>\n",
              "      <td>788.83</td>\n",
              "    </tr>\n",
              "    <tr>\n",
              "      <th>4</th>\n",
              "      <td>PS2</td>\n",
              "      <td>448.67</td>\n",
              "    </tr>\n",
              "  </tbody>\n",
              "</table>\n",
              "</div>"
            ],
            "text/plain": [
              "  platform  total_sales\n",
              "0     X360       971.42\n",
              "1      PS3       939.65\n",
              "2      Wii       907.51\n",
              "3       DS       788.83\n",
              "4      PS2       448.67"
            ]
          },
          "execution_count": 259,
          "metadata": {},
          "output_type": "execute_result"
        }
      ],
      "execution_count": 259
    },
    {
      "cell_type": "code",
      "source": "#We use the original dataframe, based on those leading platforms, to obtain another dataframe\n#with sales by region.\n\ngames_top = data_2017[data_2017['platform'].isin(lider_ventas['platform'].head(5))]\ngames_top['platform'].unique() #verifying the filter",
      "metadata": {},
      "outputs": [
        {
          "data": {
            "text/plain": [
              "array(['Wii', 'DS', 'X360', 'PS3', 'PS2'], dtype=object)"
            ]
          },
          "execution_count": 260,
          "metadata": {},
          "output_type": "execute_result"
        }
      ],
      "execution_count": 260
    },
    {
      "cell_type": "code",
      "source": "# Group by platform and sum the sales by region\nventas_region_por_plataforma = games_top.groupby('platform')[['na_sales', 'jp_sales', 'eu_sales']].sum()\n\n# Creating the bar chart\nventas_region_por_plataforma.plot(kind='bar', figsize=(10, 6))\n\nplt.xlabel('Plataform')\nplt.ylabel('Sales in million [usd]')\nplt.title('Sales by region and plataform')\n",
      "metadata": {},
      "outputs": [
        {
          "data": {
            "text/plain": [
              "Text(0.5, 1.0, 'Ventas por región y plataforma')"
            ]
          },
          "execution_count": 261,
          "metadata": {},
          "output_type": "execute_result"
        },
        {
          "data": {
            "image/png": "[encoded data removed]",
            "text/plain": [
              "<Figure size 720x432 with 1 Axes>"
            ]
          },
          "metadata": {
            "needs_background": "light"
          },
          "output_type": "display_data"
        }
      ],
      "execution_count": 261
    },
    {
      "cell_type": "markdown",
      "source": "We can observe that sales in Japan were the lowest compared to the other regions for the top 5 platforms, and North America was the region with the most successful sales. \nAdditionally, we see that the 'DS' console was the only one that had a more consistent sales performance between Japan and Europe. Finally, we can also say that the 'X360' was not successful in Japan.",
      "metadata": {}
    },
    {
      "cell_type": "markdown",
      "source": "### 6.2 Analysis of 5 main genres <a id='region2'></a>",
      "metadata": {}
    },
    {
      "cell_type": "markdown",
      "source": "We will do the same previous exercise, but now comparing the 5 main genres.",
      "metadata": {}
    },
    {
      "cell_type": "code",
      "source": "# Best-selling genres between 2005 and 2016\ngenero_lider_ventas = data_2017.groupby('genre')['total_sales'].sum().sort_values(ascending=False).reset_index(name='total_sales')\ngenero_lider_ventas.head()",
      "metadata": {
        "scrolled": true
      },
      "outputs": [
        {
          "data": {
            "text/html": [
              "<div>\n",
              "<style scoped>\n",
              "    .dataframe tbody tr th:only-of-type {\n",
              "        vertical-align: middle;\n",
              "    }\n",
              "\n",
              "    .dataframe tbody tr th {\n",
              "        vertical-align: top;\n",
              "    }\n",
              "\n",
              "    .dataframe thead th {\n",
              "        text-align: right;\n",
              "    }\n",
              "</style>\n",
              "<table border=\"1\" class=\"dataframe\">\n",
              "  <thead>\n",
              "    <tr style=\"text-align: right;\">\n",
              "      <th></th>\n",
              "      <th>genre</th>\n",
              "      <th>total_sales</th>\n",
              "    </tr>\n",
              "  </thead>\n",
              "  <tbody>\n",
              "    <tr>\n",
              "      <th>0</th>\n",
              "      <td>Action</td>\n",
              "      <td>1221.34</td>\n",
              "    </tr>\n",
              "    <tr>\n",
              "      <th>1</th>\n",
              "      <td>Sports</td>\n",
              "      <td>870.41</td>\n",
              "    </tr>\n",
              "    <tr>\n",
              "      <th>2</th>\n",
              "      <td>Shooter</td>\n",
              "      <td>764.73</td>\n",
              "    </tr>\n",
              "    <tr>\n",
              "      <th>3</th>\n",
              "      <td>Misc</td>\n",
              "      <td>626.85</td>\n",
              "    </tr>\n",
              "    <tr>\n",
              "      <th>4</th>\n",
              "      <td>Role-Playing</td>\n",
              "      <td>553.81</td>\n",
              "    </tr>\n",
              "  </tbody>\n",
              "</table>\n",
              "</div>"
            ],
            "text/plain": [
              "          genre  total_sales\n",
              "0        Action      1221.34\n",
              "1        Sports       870.41\n",
              "2       Shooter       764.73\n",
              "3          Misc       626.85\n",
              "4  Role-Playing       553.81"
            ]
          },
          "execution_count": 262,
          "metadata": {},
          "output_type": "execute_result"
        }
      ],
      "execution_count": 262
    },
    {
      "cell_type": "code",
      "source": "#We use the original dataframe, based on the leading sales genres, to obtain another dataframe\n#with sales by gender\n\ngenre_top = data_2017[data_2017['genre'].isin(genero_lider_ventas['genre'].head(5))]\ngenre_top['genre'].unique() #verifying the filter",
      "metadata": {},
      "outputs": [
        {
          "data": {
            "text/plain": [
              "array(['Sports', 'Misc', 'Action', 'Role-Playing', 'Shooter'],\n",
              "      dtype=object)"
            ]
          },
          "execution_count": 263,
          "metadata": {},
          "output_type": "execute_result"
        }
      ],
      "execution_count": 263
    },
    {
      "cell_type": "code",
      "source": "# We group by gender and add up sales by region.\nventas_region_por_genero = genre_top.groupby('genre')[['na_sales', 'jp_sales', 'eu_sales']].sum()\n\n# We create the bar chart\nventas_region_por_genero.plot(kind='bar', figsize=(10, 6))\n\nplt.xlabel('Genre')\nplt.ylabel('Sales in millions [usd]')\nplt.title('Sales by region and genre')",
      "metadata": {},
      "outputs": [
        {
          "data": {
            "text/plain": [
              "Text(0.5, 1.0, 'Ventas por región y género')"
            ]
          },
          "execution_count": 282,
          "metadata": {},
          "output_type": "execute_result"
        },
        {
          "data": {
            "image/png": "[encoded data removed]",
            "text/plain": [
              "<Figure size 720x432 with 1 Axes>"
            ]
          },
          "metadata": {
            "needs_background": "light"
          },
          "output_type": "display_data"
        }
      ],
      "execution_count": 282
    },
    {
      "cell_type": "markdown",
      "source": "We can see that Japan is still the region with the lowest sales for all successful genres, except for the ‘Role-Playing’ genre.\nFurthermore, the genre ‘Action’ is the best-selling genre in North America and Europe. The genre ‘Role-playing’ has a more symmetrical sales behaviour in these 3 regions than the other genres and we also see that the genres ‘Shooter’ and ‘Sports’ were not very popular in Japan.",
      "metadata": {}
    },
    {
      "cell_type": "markdown",
      "source": "### 6.3 Analysis of sales by ESRB ratings <a id='region3'></a>",
      "metadata": {}
    },
    {
      "cell_type": "markdown",
      "source": "We will proceed to analyse whether ESRB ratings affect sales in individual regions.",
      "metadata": {}
    },
    {
      "cell_type": "code",
      "source": "# Total sales by game rating between 2005 and 2016\nrating_ventas = data_2017.groupby('rating')['total_sales'].sum().sort_values(ascending=False).reset_index(name='total_sales')\nrating_ventas",
      "metadata": {
        "scrolled": true
      },
      "outputs": [
        {
          "data": {
            "text/html": [
              "<div>\n",
              "<style scoped>\n",
              "    .dataframe tbody tr th:only-of-type {\n",
              "        vertical-align: middle;\n",
              "    }\n",
              "\n",
              "    .dataframe tbody tr th {\n",
              "        vertical-align: top;\n",
              "    }\n",
              "\n",
              "    .dataframe thead th {\n",
              "        text-align: right;\n",
              "    }\n",
              "</style>\n",
              "<table border=\"1\" class=\"dataframe\">\n",
              "  <thead>\n",
              "    <tr style=\"text-align: right;\">\n",
              "      <th></th>\n",
              "      <th>rating</th>\n",
              "      <th>total_sales</th>\n",
              "    </tr>\n",
              "  </thead>\n",
              "  <tbody>\n",
              "    <tr>\n",
              "      <th>0</th>\n",
              "      <td>E</td>\n",
              "      <td>1726.62</td>\n",
              "    </tr>\n",
              "    <tr>\n",
              "      <th>1</th>\n",
              "      <td>M</td>\n",
              "      <td>1221.78</td>\n",
              "    </tr>\n",
              "    <tr>\n",
              "      <th>2</th>\n",
              "      <td>T</td>\n",
              "      <td>961.60</td>\n",
              "    </tr>\n",
              "    <tr>\n",
              "      <th>3</th>\n",
              "      <td>unknown</td>\n",
              "      <td>961.34</td>\n",
              "    </tr>\n",
              "    <tr>\n",
              "      <th>4</th>\n",
              "      <td>E10+</td>\n",
              "      <td>649.80</td>\n",
              "    </tr>\n",
              "    <tr>\n",
              "      <th>5</th>\n",
              "      <td>AO</td>\n",
              "      <td>1.96</td>\n",
              "    </tr>\n",
              "    <tr>\n",
              "      <th>6</th>\n",
              "      <td>EC</td>\n",
              "      <td>1.75</td>\n",
              "    </tr>\n",
              "    <tr>\n",
              "      <th>7</th>\n",
              "      <td>RP</td>\n",
              "      <td>0.09</td>\n",
              "    </tr>\n",
              "  </tbody>\n",
              "</table>\n",
              "</div>"
            ],
            "text/plain": [
              "    rating  total_sales\n",
              "0        E      1726.62\n",
              "1        M      1221.78\n",
              "2        T       961.60\n",
              "3  unknown       961.34\n",
              "4     E10+       649.80\n",
              "5       AO         1.96\n",
              "6       EC         1.75\n",
              "7       RP         0.09"
            ]
          },
          "execution_count": 265,
          "metadata": {},
          "output_type": "execute_result"
        }
      ],
      "execution_count": 265
    },
    {
      "cell_type": "code",
      "source": "# We group by rating and add up sales by region.\nventas_region_por_rating = data_2017.groupby('rating')[['na_sales', 'jp_sales', 'eu_sales']].sum()\n\n# We create the bar chart\nventas_region_por_rating.plot(kind='bar', figsize=(10, 6))\n\nplt.xlabel('Classification')\nplt.ylabel('Sales in millions [usd]')\nplt.title('Sales by region and genre')",
      "metadata": {},
      "outputs": [
        {
          "data": {
            "text/plain": [
              "Text(0.5, 1.0, 'Ventas por región y clasificación')"
            ]
          },
          "execution_count": 266,
          "metadata": {},
          "output_type": "execute_result"
        },
        {
          "data": {
            "image/png": "[encoded data removed]",
            "text/plain": [
              "<Figure size 720x432 with 1 Axes>"
            ]
          },
          "metadata": {
            "needs_background": "light"
          },
          "output_type": "display_data"
        }
      ],
      "execution_count": 266
    },
    {
      "cell_type": "markdown",
      "source": "We see that classification does impact overall sales to a large extent. For example, sales of the AO, EC and RP classification are less than 0.5 million. On the other hand, the ‘E’ classification is the most successful in North America, Europe, but we cannot confirm the same for Japan, since we have a higher amount of those sales in the ‘unknown’ classification. The best selling classifications are ‘M’, ‘T’ and ‘E10+’ and all have a similar distribution, i.e. more sales in North America and less in Japan.",
      "metadata": {}
    },
    {
      "cell_type": "markdown",
      "source": "## 7. Testing statistical hypotheses <a id='test'></a>",
      "metadata": {}
    },
    {
      "cell_type": "markdown",
      "source": "### 7.1 Analysis of Average User Ratings for Xbox One and PC <a id='test1'></a>",
      "metadata": {}
    },
    {
      "cell_type": "markdown",
      "source": "We will verify if the average user ratings for the Xbox One and PC platforms are the same.",
      "metadata": {}
    },
    {
      "cell_type": "markdown",
      "source": "Next, we will analyse the behaviour of user rating data for the Xbox One and PC platforms to see if we could use a t-student sample in case of a normal distribution.",
      "metadata": {}
    },
    {
      "cell_type": "code",
      "source": "# We filter by platforms in analysis\nplatf_seleccionados = ['XOne', 'PC']\n\n#Obtaining a filtered dataframe\nuser_score_sample = data_2017[data_2017['platform'].isin(platf_seleccionados)]\nuser_score_sample['platform'].unique()\n",
      "metadata": {},
      "outputs": [
        {
          "data": {
            "text/plain": [
              "array(['PC', 'XOne'], dtype=object)"
            ]
          },
          "execution_count": 267,
          "metadata": {},
          "output_type": "execute_result"
        }
      ],
      "execution_count": 267
    },
    {
      "cell_type": "code",
      "source": "# Function for comparing histograms\ndef comparar_histogramas(data1, data2, name1, name2, descrip, descrip2):\n    plt.figure(figsize=(18, 5))\n    \n    # Histogram of the first DataFrame (data1)\n    plt.subplot(1, 2, 1)\n    plt.hist(data1, bins=10, label=name1, color='blue', alpha=0.7)\n    plt.title(f'{descrip}')\n    plt.xlabel(f'{descrip2}')\n    plt.legend()\n\n    # Histogram of the second DataFrame (data2)\n    plt.subplot(1, 2, 2)\n    plt.hist(data2, bins=10, label=name2, color='green', alpha=0.7)\n    plt.title(f'{descrip}')\n    plt.xlabel(f'{descrip2}')\n    plt.legend()",
      "metadata": {},
      "outputs": [],
      "execution_count": 268
    },
    {
      "cell_type": "code",
      "source": "XOne_score = user_score_sample[user_score_sample['platform'] == 'XOne']\nPC_score = user_score_sample[user_score_sample['platform'] == 'PC']",
      "metadata": {},
      "outputs": [],
      "execution_count": 269
    },
    {
      "cell_type": "code",
      "source": "#llamamos a la funcion histogramas\ncomparar_histogramas(XOne_score['user_score'], PC_score['user_score'], 'XOne' , 'PC' ,'Users rating by platform','Users ratings')",
      "metadata": {
        "scrolled": true
      },
      "outputs": [
        {
          "data": {
            "image/png": "[encoded data removed]",
            "text/plain": [
              "<Figure size 1296x360 with 2 Axes>"
            ]
          },
          "metadata": {
            "needs_background": "light"
          },
          "output_type": "display_data"
        }
      ],
      "execution_count": 270
    },
    {
      "cell_type": "markdown",
      "source": "We can observe that they tend to follow a normal distribution; in any case, the sample data is >30 (large sample), so the t-test, which is the one we will use, is less sensitive to deviations from normality.",
      "metadata": {}
    },
    {
      "cell_type": "markdown",
      "source": "To test whether the average user ratings for the Xbox one and PC platforms are the same, we can use a hypothesis test. In this case, we can use a t-test for two independent samples, since we are comparing the means of two different groups.\n\nFirst, we establish our hypotheses:\n\n- Null hypothesis (H0): The mean user ratings for the Xbox One and PC platforms are equal.\n- Alternative hypothesis (H1): The average user ratings for the Xbox One and PC platforms are different.",
      "metadata": {}
    },
    {
      "cell_type": "code",
      "source": "# Testing the hypothesis\n\n# Using the t-test of 2 samples\nresults = st.ttest_ind(XOne_score['user_score'], PC_score['user_score'])\n\nalpha = 0.05\n\nprint(results.pvalue)\n\nif results.pvalue < alpha: \n    print(\"Reject the Null Hypothesis\")\nelse:\n    print(\"Do not reject the Null Hypothesis\")",
      "metadata": {},
      "outputs": [
        {
          "name": "stdout",
          "output_type": "stream",
          "text": "0.01846623883968937\n,Rechazamos la hipótesis nula\n"
        }
      ],
      "execution_count": 275
    },
    {
      "cell_type": "markdown",
      "source": "**CONCLUSION**:\nSince the p-value is less than the alpha value of significance (0.05), the result will be to reject the null hypothesis, i.e. we can statistically conclude that the average user ratings on Xbox One are different than that on PC.",
      "metadata": {}
    },
    {
      "cell_type": "markdown",
      "source": "### 7.2 Analysis of Average User Ratings for Action and Sports <a id='region2'></a>",
      "metadata": {}
    },
    {
      "cell_type": "markdown",
      "source": "We will proceed to verify if the average ratings of users for the Action and Sports genres are different.",
      "metadata": {}
    },
    {
      "cell_type": "markdown",
      "source": "Next, we will analyse the behaviour of user rating data in the action and sports genres to see if we could use a t-student sample in case of a normal distribution.",
      "metadata": {}
    },
    {
      "cell_type": "code",
      "source": "# Filtering by platforms in the analysis\ngen_seleccionados = ['Action', 'Sports']\n\n#Dataframe filtered\nuser_score_sample2 = data_2017[data_2017['genre'].isin(gen_seleccionados)]\nuser_score_sample2['genre'].unique()#Checking the filter\n",
      "metadata": {},
      "outputs": [
        {
          "data": {
            "text/plain": [
              "array(['Sports', 'Action'], dtype=object)"
            ]
          },
          "execution_count": 276,
          "metadata": {},
          "output_type": "execute_result"
        }
      ],
      "execution_count": 276
    },
    {
      "cell_type": "code",
      "source": "#We create filters for each genre in analysis\nAction_score = user_score_sample2[user_score_sample2['genre'] == 'Action']\nSports_score = user_score_sample2[user_score_sample2['genre'] == 'Sports']",
      "metadata": {},
      "outputs": [],
      "execution_count": 278
    },
    {
      "cell_type": "code",
      "source": "#we call the histogram function to see the behaviour of the normal distribution \ncomparar_histogramas(Action_score['user_score'], Sports_score['user_score'], 'Action' , 'Sports' ,'User ratings by genre','User Ratings')",
      "metadata": {},
      "outputs": [
        {
          "data": {
            "image/png": "[encoded data removed]",
            "text/plain": [
              "<Figure size 1296x360 with 2 Axes>"
            ]
          },
          "metadata": {
            "needs_background": "light"
          },
          "output_type": "display_data"
        }
      ],
      "execution_count": 279
    },
    {
      "cell_type": "markdown",
      "source": "We can observe that they tend to follow a normal distribution; in any case, the sample data is >30 (large sample), so the t-test, which is the one we will use, is less sensitive to deviations from normality.",
      "metadata": {}
    },
    {
      "cell_type": "markdown",
      "source": "To test whether the average ratings of the ‘Sports’ and ‘Action’ genres are equal, a hypothesis test can be employed. In this case, a two-sample t-test for independent samples is appropriate, as it compares the means of two different groups.\n\nFirst, the hypotheses are established:\n\n- Null Hypothesis (H0): The average user ratings for the Action and Sports genres are equal.\n\n- Alternative Hypothesis (H1): The average user ratings for the Action and Sports genres are different.",
      "metadata": {}
    },
    {
      "cell_type": "code",
      "source": "# Testing the hypothesis\n\n# Using the t-test of 2 samples\nresults = st.ttest_ind(Action_score['user_score'], Sports_score['user_score'])\n\nalpha = 0.05\n\nprint(results.pvalue)\n\nif results.pvalue < alpha: \n    print(\"Reject the Null Hypothesis\")\nelse:\n    print(\"Do not reject the Null Hypothesis\")",
      "metadata": {},
      "outputs": [
        {
          "name": "stdout",
          "output_type": "stream",
          "text": "1.7567486833524652e-07\n,Rechazamos la hipótesis nula\n"
        }
      ],
      "execution_count": 280
    },
    {
      "cell_type": "markdown",
      "source": "**CONCLUSION**:\n\nSince the p-value is less than the alpha value of significance (0.05), the result will be to reject the null hypothesis, i.e. we can statistically conclude that the average user ratings for the gender Action are different than for the gender Sports.",
      "metadata": {}
    },
    {
      "cell_type": "markdown",
      "source": "## Project Conclusion <a id='end'></a>",
      "metadata": {}
    },
    {
      "cell_type": "markdown",
      "source": "As a general conclusion, the following steps can be highlighted in the order in which they were addressed:\n\n- Step 1: The database was verified in its entirety.\n\n- Step 2: Anomalies in each variable were analyzed and corrected (whether due to text standardization issues, outlier data, or data that did not make sense given the nature of the variable). Columns with missing values were also identified, and duplicate data were checked.\n\n- Step 3: The identified issues from Step 2 were corrected.\n\n- Step 4: It was analyzed whether there was any explanation for the absence of certain values in each variable. Missing values were then filled based on the main variables that had a correlation (for quantitative data), and categorical value categorization was used for categorical data.\n\n- Step 5: The data were analyzed based on:\n\n    - Analysis of games released by year\n\n    - Analysis of sales by platform and year\n\n    - Analysis of top-selling platforms\n\n    - Analysis of user reviews versus Wii platform sales\n\n    - Analysis of multi-platform game sales\n\n    - Analysis of sales by genre\n\n    In general, the following conclusions can be drawn from these analyses:\n    \n    - For the first analysis, it was concluded that the largest number of games sold was between 2005 and 2012, but overall, video games have experienced an explosion in sales since 1995.\n    \n    - For the second analysis, it was concluded that in the first five years, the popularity of platforms grows until reaching a peak in sales, followed by approximately another five years before declining in popularity.\n    \n    - For the third analysis, it was concluded that the most potentially profitable platforms for 2017 could be the PS4 and 3DS, mainly because they are new consoles still evolving in sales. In contrast, while the PS3 and X360 have had the highest sales over the past ten years, there is a possibility that they will disappear from the market in the next five years, although they are expected to remain popular in 2017.\n    \n    - For the fourth analysis, all platforms showed a similar distribution, except for the older platforms. All platforms exhibited outlier sales exceeding one million USD.\n    \n    - For the fifth analysis, no direct or indirect correlation was observed between user and professional reviews and total sales.\n    \n    - For the sixth analysis, the most successful platforms for games not primarily from Nintendo are the PS3 and X360. For the game 'Just Dance 3', sales were more successful on the Wii platform despite being a multi-platform game, while 'Call of Duty' games showed very similar sales behavior across platforms.\n    \n    - In the last analysis of this section, it was found that in the last ten years, the most predominant genres in sales were: action, sports, and shooting, each exceeding almost 800 million dollars in sales. On the other hand, the least sold were adventure, puzzle, and strategy games.\n\n- Step 6: An analysis was conducted based on sales by region: North America, Japan, and Europe. It was concluded that, in general, sales in Japan were lower than in the other regions, with the highest sales in North America across platforms and main genres. The same trend was observed for ESRB ratings, with a few exceptions.\n\n- Step 7: Finally, statistical analysis tests were conducted for two samples, with the following conclusions:\n\n    - The average user ratings for Xbox One are different from those for PC.\n\n    - The average user ratings for the Action genre are different from those for the Sports genre.\n\nIn both cases, the null hypothesis was rejected.\n\nNote: This is under the assumption that the data tend to follow a normal distribution and that the samples include more than 30 data points.",
      "metadata": {}
    },
    {
      "cell_type": "code",
      "source": "",
      "metadata": {},
      "outputs": [],
      "execution_count": null
    }
  ]
}